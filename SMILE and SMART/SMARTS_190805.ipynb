{
 "cells": [
  {
   "cell_type": "markdown",
   "metadata": {},
   "source": [
    "# RDKit: making new molecules using reaction SMARTS"
   ]
  },
  {
   "cell_type": "code",
   "execution_count": 1,
   "metadata": {},
   "outputs": [],
   "source": [
    "from __future__ import print_function\n",
    "# import rdkit components\n",
    "from rdkit import rdBase\n",
    "from rdkit import Chem\n",
    "from rdkit.Chem import AllChem\n",
    "from rdkit.Chem import Draw\n",
    "from rdkit.Chem import rdMolDescriptors\n",
    "\n",
    "# use IPythonConsole for pretty drawings\n",
    "from rdkit.Chem.Draw import IPythonConsole\n",
    "\n",
    "IPythonConsole.ipython_useSVG=False\n",
    "\n",
    "# for flattening tuples and lists\n",
    "from itertools import chain"
   ]
  },
  {
   "cell_type": "markdown",
   "metadata": {},
   "source": [
    "### An example unimolecular reaction: the oxidation of alcohols to ketones\n",
    "\n",
    "알코올의 산화반응(케톤/알데하이드)의 예시를 보겠다. 실제 반응에서는 완전한 단일분자의 반응은 실제로 불가하다. 허나 단 하나의 단일 분자의 반응만을 보겠다."
   ]
  },
  {
   "cell_type": "code",
   "execution_count": 2,
   "metadata": {},
   "outputs": [
    {
     "data": {
      "image/png": "[encoded data removed]",
      "text/plain": [
       "<PIL.PngImagePlugin.PngImageFile image mode=RGB size=1000x200 at 0x1C25DCBB518>"
      ]
     },
     "execution_count": 2,
     "metadata": {},
     "output_type": "execute_result"
    }
   ],
   "source": [
    "ethanol = Chem.MolFromSmiles('CCO')\n",
    "isopropanol = Chem.MolFromSmiles('CC(C)O')\n",
    "phenol = Chem.MolFromSmiles('c1cccc(O)c1')\n",
    "t_butanol = Chem.MolFromSmiles('C(C)(C)(C)O')\n",
    "glycerol = Chem.MolFromSmiles('OCC(O)CO')\n",
    "\n",
    "alcohols = [ethanol, isopropanol, phenol, t_butanol, glycerol]\n",
    "\n",
    "Draw.MolsToGridImage(alcohols, molsPerRow=5)"
   ]
  },
  {
   "cell_type": "markdown",
   "metadata": {},
   "source": [
    "### A very general reaction definition\n",
    "\n",
    "We'll take the most general way imaginable first."
   ]
  },
  {
   "cell_type": "code",
   "execution_count": 3,
   "metadata": {},
   "outputs": [],
   "source": [
    "rxn_1 = AllChem.ReactionFromSmarts('[#6:1]([O:2])>>[#6:1](=[O:2])')"
   ]
  },
  {
   "cell_type": "markdown",
   "metadata": {},
   "source": [
    "This definition says:\n",
    "\n",
    "1. Take _any_ carbon atom, which we'll label as atom #1,**whether aliphatic(지방족) or aromatic(방향족)**, that ...\n",
    "2. ... is bound via **a single bond to an aliphatic oxygen atom (capital O)**, that we label as atom #2, and\n",
    "3. transform the linkage between these atoms to be a double bond.\n",
    "  \n",
    "This is an OK definition, but it is going to run into problems. **Phenol and $t$-butanol don't oxidize**, because if they did it would either disrupt aromaticity or result in a pentavalent(5가의) carbon. **Rdkit has ways of letting us know about this, as we shall see.**\n",
    "\n",
    "Let's show it working on isopropanol."
   ]
  },
  {
   "cell_type": "code",
   "execution_count": 4,
   "metadata": {},
   "outputs": [
    {
     "data": {
      "text/plain": [
       "((<rdkit.Chem.rdchem.Mol at 0x1c25c5fc818>,),)"
      ]
     },
     "execution_count": 4,
     "metadata": {},
     "output_type": "execute_result"
    }
   ],
   "source": [
    "rxn_1.RunReactants((isopropanol, ))"
   ]
  },
  {
   "cell_type": "markdown",
   "metadata": {},
   "source": [
    "A couple of things to note about the input and output to the `RunReactants()` method:\n",
    "1. The input is a Python _tuple_. Note the extra parentheses(괄호) and the trailing comma in the input above. For the single molecule we have here, it seems confusing, but **this format makes it easy to supply multiple molecules into a single reaction.**\n",
    "2. The output is a tuple of tuples.  The _inner_ tuples are there because even reactions that take only a single input molecule can result in multiple output molecules (e.g. hydrolysis(가수분해)).  The _outer_ tuples are there because rdkit applies your reaction incidence of the appropriate motifs(모티브) in the input molecule, even if it occurs more than once.  \n",
    "\n",
    "`#tuple`  [점프 투 파이썬](https://wikidocs.net/15)\n",
    "1. 단지 1개의 요소만을 가질 때는 요소 뒤에 콤마(,)를 반드시 붙여야 한다는 것과 괄호( )를 생략해도 무방하다는 점이다.\n",
    "2. 튜플의 항목 값은 변화가 불가능하다. 따라서 프로그램이 실행되는 동안 그 값이 항상 변하지 않기를 바란다거나 값이 바뀔까 걱정하고 싶지 않다면 주저하지 말고 튜플을 사용해야 한다.\n",
    "\n",
    "The upshot of all this is that it can take a bit of indexing to get your molecule out.  Note the trailing `[0][0]` below."
   ]
  },
  {
   "cell_type": "code",
   "execution_count": 5,
   "metadata": {},
   "outputs": [
    {
     "data": {
      "image/png": "[encoded data removed]",
      "text/plain": [
       "<rdkit.Chem.rdchem.Mol at 0x1c25dbbe4a8>"
      ]
     },
     "execution_count": 5,
     "metadata": {},
     "output_type": "execute_result"
    }
   ],
   "source": [
    "rxn_1.RunReactants((isopropanol, ))[0][0]"
   ]
  },
  {
   "cell_type": "markdown",
   "metadata": {},
   "source": [
    "We have produced acetone. Now let's try one of the problematic examples."
   ]
  },
  {
   "cell_type": "code",
   "execution_count": 6,
   "metadata": {},
   "outputs": [
    {
     "data": {
      "image/png": "[encoded data removed]",
      "text/plain": [
       "<rdkit.Chem.rdchem.Mol at 0x1c25dd7a920>"
      ]
     },
     "execution_count": 6,
     "metadata": {},
     "output_type": "execute_result"
    }
   ],
   "source": [
    "rxn_1.RunReactants((t_butanol, ))[0][0]"
   ]
  },
  {
   "cell_type": "markdown",
   "metadata": {},
   "source": [
    "RDKit gave us a pentavalent carbon. That can't be right.\n",
    "\n",
    "The reason this happens is that by default, the products of `RunReactants` are not sanitized, i.e., **rdkit doesn't check to see if they make sense.** We can do that check using `Chem.SanitizeMol()`, and **the results match up with chemical common sense.**"
   ]
  },
  {
   "cell_type": "code",
   "execution_count": 7,
   "metadata": {},
   "outputs": [
    {
     "data": {
      "text/plain": [
       "rdkit.Chem.rdmolops.SanitizeFlags.SANITIZE_NONE"
      ]
     },
     "execution_count": 7,
     "metadata": {},
     "output_type": "execute_result"
    }
   ],
   "source": [
    "# acetone can be sanitized, no problems here\n",
    "acetone = rxn_1.RunReactants((isopropanol, ))[0][0]\n",
    "Chem.SanitizeMol(acetone)"
   ]
  },
  {
   "cell_type": "code",
   "execution_count": 8,
   "metadata": {},
   "outputs": [
    {
     "data": {
      "image/png": "[encoded data removed]",
      "text/plain": [
       "<rdkit.Chem.rdchem.Mol at 0x1c25dd7aa80>"
      ]
     },
     "execution_count": 8,
     "metadata": {},
     "output_type": "execute_result"
    }
   ],
   "source": [
    "acetone"
   ]
  },
  {
   "cell_type": "code",
   "execution_count": 10,
   "metadata": {},
   "outputs": [
    {
     "name": "stdout",
     "output_type": "stream",
     "text": [
      "Sanitization FAILED!\n"
     ]
    },
    {
     "data": {
      "image/png": "[encoded data removed]",
      "text/plain": [
       "<rdkit.Chem.rdchem.Mol at 0x1c25de39f50>"
      ]
     },
     "execution_count": 10,
     "metadata": {},
     "output_type": "execute_result"
    }
   ],
   "source": [
    "#doctest: IGNORE\n",
    "# \"t-butyl ketone\" cannot be sanitized, this is going to give an error\n",
    "crazy_molecule = rxn_1.RunReactants((t_butanol, ))[0][0]\n",
    "try:\n",
    "    Chem.SanitizeMol(crazy_molecule)\n",
    "except ValueError:\n",
    "    print('Sanitization FAILED!')\n",
    "    \n",
    "# Drawing the moecule will create rdkit warning messages that start with `RDKit ERROR:`\n",
    "crazy_molecule"
   ]
  },
  {
   "cell_type": "markdown",
   "metadata": {},
   "source": [
    "The warning message is a clue that something is wonky with the \"ketone\" that we created with the reaction. Phenol presents another problematic case for our reaction.  "
   ]
  },
  {
   "cell_type": "code",
   "execution_count": 11,
   "metadata": {},
   "outputs": [
    {
     "name": "stdout",
     "output_type": "stream",
     "text": [
      "Sanitization failed.\n"
     ]
    }
   ],
   "source": [
    "#doctest: IGNORE\n",
    "# \"phenyl ketone\" cannot be kekulized\n",
    "crazy_molecule = rxn_1.RunReactants((phenol, ))[0][0]\n",
    "try:\n",
    "    Chem.SanitizeMol(crazy_molecule)\n",
    "except ValueError:\n",
    "    print(\"Sanitization failed.\")\n",
    "    \n",
    "# Drawing the molecule will create rdkit warning messages that start with `RDKit ERROR:`,\n",
    "# so we skip it here\n",
    "crazy_molecule = rxn_1.RunReactants((phenol, ))[0][0]\n",
    "# crazy_molecule"
   ]
  },
  {
   "cell_type": "markdown",
   "metadata": {},
   "source": [
    "![kekulization](https://image.slidesharecdn.com/kekulization-170820105806/95/we-need-to-talk-about-kekulization-aromaticity-and-smiles-2-638.jpg?cb=1503226771)"
   ]
  },
  {
   "cell_type": "markdown",
   "metadata": {},
   "source": [
    "The lesson here is that reactions can create crazy molecules. This is usually a sign that **your reaction is defined too generally.** There are ways to fix that, but for now, let's see what happens with glycerol."
   ]
  },
  {
   "cell_type": "code",
   "execution_count": 12,
   "metadata": {},
   "outputs": [
    {
     "data": {
      "text/plain": [
       "((<rdkit.Chem.rdchem.Mol at 0x1c25de4f500>,),\n",
       " (<rdkit.Chem.rdchem.Mol at 0x1c25de4f4a8>,),\n",
       " (<rdkit.Chem.rdchem.Mol at 0x1c25de4f450>,))"
      ]
     },
     "execution_count": 12,
     "metadata": {},
     "output_type": "execute_result"
    }
   ],
   "source": [
    "rxn_1.RunReactants((glycerol, ))"
   ]
  },
  {
   "cell_type": "markdown",
   "metadata": {},
   "source": [
    "Now the ouput is a length-3 tuple of length-1 tuples. This means that rdkit found three places in the reactant to apply the reaction rule, and **each reaction created a single molecule as the product.** This makes sense because glycerol does have three hydroxyl atoms that can be oxidized.  A Pythonic way to look at all these products at once is to unpack the tuples with the `chain.from_iterable()` method from `itertools`."
   ]
  },
  {
   "cell_type": "code",
   "execution_count": 13,
   "metadata": {},
   "outputs": [
    {
     "data": {
      "text/plain": [
       "[rdkit.Chem.rdmolops.SanitizeFlags.SANITIZE_NONE,\n",
       " rdkit.Chem.rdmolops.SanitizeFlags.SANITIZE_NONE,\n",
       " rdkit.Chem.rdmolops.SanitizeFlags.SANITIZE_NONE]"
      ]
     },
     "execution_count": 13,
     "metadata": {},
     "output_type": "execute_result"
    }
   ],
   "source": [
    "glycerol_products = list(chain.from_iterable(rxn_1.RunReactants((glycerol, ))))\n",
    "[Chem.SanitizeMol(mol) for mol in glycerol_products]"
   ]
  },
  {
   "cell_type": "code",
   "execution_count": 14,
   "metadata": {},
   "outputs": [
    {
     "data": {
      "image/png": "[encoded data removed]",
      "text/plain": [
       "<PIL.PngImagePlugin.PngImageFile image mode=RGB size=600x200 at 0x1C25DBBA7F0>"
      ]
     },
     "execution_count": 14,
     "metadata": {},
     "output_type": "execute_result"
    }
   ],
   "source": [
    "Draw.MolsToGridImage(glycerol_products)"
   ]
  },
  {
   "cell_type": "markdown",
   "metadata": {},
   "source": [
    "**rdkit does not know about the symmetry of the glycerol molecule**, i.e. that oxidizing carbon 1 gives the same molecule as oxidizing carbon 3. So glyceraldehyde appears twice while dihydroxyacetone appears only once.  \n",
    "\n",
    "It can be tricky to reduce sets of molecules to **\"unique\"** sets of molecules in rdkit.  rdkit molecules are really pointers to locations in memory, so equating two molecules in Python will always give `False`.  Doing the comparison in a simple case like this can be done by converting to SMILES. Our products are not chiral, but if they were, converting to canonical SMILES would destroy chiral information, so **setting `isomericSmiles=True` in the conversion to SMILES is necessary** if we'd want to preserve that information.  \n",
    "\n",
    "Once the molecules have been converted to SMILES string representations, we can use Python's `set` object type to keep only the unique objects, and then covert back to rdkit molecules."
   ]
  },
  {
   "cell_type": "code",
   "execution_count": 15,
   "metadata": {},
   "outputs": [
    {
     "data": {
      "image/png": "[encoded data removed]",
      "text/plain": [
       "<PIL.PngImagePlugin.PngImageFile image mode=RGB size=600x200 at 0x1C25DE20A20>"
      ]
     },
     "execution_count": 15,
     "metadata": {},
     "output_type": "execute_result"
    }
   ],
   "source": [
    "glycerol_product_smiles = [Chem.MolToSmiles(mol, isomericSmiles=True) for mol in glycerol_products]\n",
    "glycerol_unique_products = [Chem.MolFromSmiles(smiles) for smiles in set(glycerol_product_smiles)]\n",
    "Draw.MolsToGridImage(glycerol_unique_products)"
   ]
  },
  {
   "cell_type": "markdown",
   "metadata": {},
   "source": [
    "It's worth noting that **converting molecules to SMILES and then back into rdkit Molecules results in kekulization and sanitization**, because unlike molecules created by `RunReactants()`, molecules created by `MolFromSmiles()` are kekulized and sanitized by default."
   ]
  },
  {
   "cell_type": "markdown",
   "metadata": {},
   "source": [
    "### A better, more specific reaction definition\n",
    "\n",
    "We can fix most of the problems we've experienced with **a better-defined SMARTS reaction.** Here's one that will only work on aliphatic primary or secondary alcohols."
   ]
  },
  {
   "cell_type": "code",
   "execution_count": 16,
   "metadata": {},
   "outputs": [],
   "source": [
    "rxn_2 = AllChem.ReactionFromSmarts('[CH:1]([O:2])>>[C:1](=[O:2])')"
   ]
  },
  {
   "cell_type": "markdown",
   "metadata": {},
   "source": [
    "In this version of the reaction, we specify that the alcohol in question must be** _aliphatic_ **(we've used a capital `C` in the reactant definition above) and additionally that **this carbon atom must be bound to at least one hydrogen** (the `H`) above.\n",
    "\n",
    "We now apply the reaction to every molecule in our alcohol set and look at all the products."
   ]
  },
  {
   "cell_type": "code",
   "execution_count": 17,
   "metadata": {},
   "outputs": [
    {
     "data": {
      "image/png": "[encoded data removed]",
      "text/plain": [
       "<PIL.PngImagePlugin.PngImageFile image mode=RGB size=600x200 at 0x1C25DE51C50>"
      ]
     },
     "execution_count": 17,
     "metadata": {},
     "output_type": "execute_result"
    }
   ],
   "source": [
    "all_products_tuples = tuple(rxn_2.RunReactants((mol, )) for mol in alcohols)\n",
    "all_products = list(chain.from_iterable(chain.from_iterable(all_products_tuples)))\n",
    "\n",
    "all_products_smiles = [Chem.MolToSmiles(mol, isomericSmiles=True) for mol in all_products]\n",
    "all_products_unique = [Chem.MolFromSmiles(smiles) for smiles in set(all_products_smiles)]\n",
    "\n",
    "Draw.MolsToGridImage(all_products_unique)"
   ]
  },
  {
   "cell_type": "markdown",
   "metadata": {},
   "source": [
    "The new reaction definition automatically excludes tertiary alcohols and aryl alcohols."
   ]
  },
  {
   "cell_type": "markdown",
   "metadata": {},
   "source": [
    "## More complex reactions\n",
    "\n",
    "The same basic ideas can be used to create reactions that involve more than one reactant molecule, or that create more than one product.  **The only new idea is that a dot `.` is used in SMARTS reactions definitions to separate molecules in the input or output.** \n",
    "\n",
    "Let's continue with the example set of alcohols, and this time eliminate water from them, creating an alkene and a water molecule.  We'll explicitly track both molecules this time."
   ]
  },
  {
   "cell_type": "code",
   "execution_count": 18,
   "metadata": {},
   "outputs": [],
   "source": [
    "# helper functions to avoid typing the same thing over and over\n",
    "def to_smiles(mol_tuple):\n",
    "    return tuple(Chem.MolToSmiles(mol, isomericSmiles=True) for mol in mol_tuple)\n",
    "\n",
    "def from_smiles(smiles_tuple):\n",
    "    return tuple(Chem.MolFromSmiles(smiles) for smiles in smiles_tuple)\n"
   ]
  },
  {
   "cell_type": "code",
   "execution_count": 28,
   "metadata": {},
   "outputs": [
    {
     "name": "stdout",
     "output_type": "stream",
     "text": [
      "Number of unique product sets: 5\n"
     ]
    },
    {
     "data": {
      "image/png": "[encoded data removed]",
      "text/plain": [
       "<PIL.PngImagePlugin.PngImageFile image mode=RGB size=400x1000 at 0x1D670C6B358>"
      ]
     },
     "execution_count": 28,
     "metadata": {},
     "output_type": "execute_result"
    }
   ],
   "source": [
    "water_elimination_smarts = '[C!H0:1][C:2][O:3]>>[C:1]=[C:2].[O:3]'\n",
    "water_elimination = AllChem.ReactionFromSmarts(water_elimination_smarts)\n",
    "\n",
    "# do the reaction on every alcohol in our set\n",
    "all_products_tuples = [water_elimination.RunReactants((mol, )) for mol in alcohols]\n",
    "all_products = chain.from_iterable(all_products_tuples)\n",
    "\n",
    "# convert to smiles and back to keep only unique products\n",
    "all_products_smiles = [to_smiles(mol_tuple) for mol_tuple in all_products]\n",
    "all_products_unique = [from_smiles(smiles_tuple) for smiles_tuple in set(all_products_smiles)]\n",
    "nProductSets = len(all_products_unique)\n",
    "print(\"Number of unique product sets:\",nProductSets)\n",
    "\n",
    "# draw each product set on its own line\n",
    "prod_tpl = tuple(chain(*all_products_unique))\n",
    "Draw.MolsToGridImage(prod_tpl,molsPerRow=water_elimination.GetNumProductTemplates())"
   ]
  },
  {
   "cell_type": "markdown",
   "metadata": {},
   "source": [
    "As expected, every reaction produces two compounds, one of which is water.  As before, glycerol gives rise to two _unique_ products.  Phenol does not react because it does not match our reaction rule, which specifies aliphatic carbons.  Unlike the oxidation reaction, $t$-butanol does react, since now it matches the reaction rule, forming isobutylene.  "
   ]
  },
  {
   "cell_type": "markdown",
   "metadata": {},
   "source": [
    "## A few other examples\n",
    "\n",
    "### Thiazole synthesis\n",
    "\n",
    "The case we haven't dealt with yet is defining reactions that take more than one molecule as input.  Here's an example of thiazole synthesis from a thiourea and a ketone."
   ]
  },
  {
   "cell_type": "code",
   "execution_count": 29,
   "metadata": {},
   "outputs": [
    {
     "data": {
      "text/plain": [
       "rdkit.Chem.rdmolops.SanitizeFlags.SANITIZE_NONE"
      ]
     },
     "execution_count": 29,
     "metadata": {},
     "output_type": "execute_result"
    }
   ],
   "source": [
    "# Hantzsch thiazole synthesis\n",
    "thiourea = Chem.MolFromSmiles('CN(C)C(=S)N')\n",
    "haloketone = Chem.MolFromSmiles('c1ccccc1C(=O)C(C)Cl')\n",
    "rxn_smarts = '[NH2:1][C:2](=[S:3])[NH0:4].[C:5](=[O:6])[C:7][Cl:8]>>[N:4][c:2]1[s:3][c:5][c:7][n:1]1'\n",
    "rxn = AllChem.ReactionFromSmarts(rxn_smarts)\n",
    "product = rxn.RunReactants((thiourea, haloketone))[0][0]\n",
    "Chem.SanitizeMol(product)"
   ]
  },
  {
   "cell_type": "code",
   "execution_count": 30,
   "metadata": {},
   "outputs": [
    {
     "data": {
      "image/png": "[encoded data removed]",
      "text/plain": [
       "<PIL.PngImagePlugin.PngImageFile image mode=RGB size=600x200 at 0x1D670C5F320>"
      ]
     },
     "execution_count": 30,
     "metadata": {},
     "output_type": "execute_result"
    }
   ],
   "source": [
    "all_three = [thiourea, haloketone, product]\n",
    "formulae = [rdMolDescriptors.CalcMolFormula(mol) for mol in all_three]\n",
    "Draw.MolsToGridImage(all_three, legends = formulae)"
   ]
  },
  {
   "cell_type": "markdown",
   "metadata": {},
   "source": [
    "Two things are worth noting in this case:\n",
    "\n",
    "1. The reaction as we defined it doesn't track all the atoms; a water and a hydrogen chloride disappear given our reaction definition.\n",
    "\n",
    "2. The order in which reactants appear in the tuple(s) supplied to `RunReactants()` matters!  In our reaction definition, the thiourea SMARTS came first, so when feeding in reactants the thiourea should appear in the same slot.  If reactants are supplied in the wrong order, they won't match the reaction rule and no products will result (see below)."
   ]
  },
  {
   "cell_type": "code",
   "execution_count": 31,
   "metadata": {},
   "outputs": [
    {
     "name": "stdout",
     "output_type": "stream",
     "text": [
      "()\n"
     ]
    }
   ],
   "source": [
    "no_products = rxn.RunReactants((haloketone, thiourea))\n",
    "print(no_products)"
   ]
  },
  {
   "cell_type": "markdown",
   "metadata": {},
   "source": [
    "### Copper-catalyzed azide/alkyne cycloaddition"
   ]
  },
  {
   "cell_type": "code",
   "execution_count": 32,
   "metadata": {},
   "outputs": [
    {
     "data": {
      "image/png": "[encoded data removed]",
      "text/plain": [
       "<PIL.PngImagePlugin.PngImageFile image mode=RGB size=600x200 at 0x1D670C5F6A0>"
      ]
     },
     "execution_count": 32,
     "metadata": {},
     "output_type": "execute_result"
    }
   ],
   "source": [
    "diyne_smiles = 'C#CCC(O)C#C'\n",
    "azide_smiles = 'CCCN=[N+]=[N-]'\n",
    "\n",
    "diyne = Chem.MolFromSmiles(diyne_smiles)\n",
    "azide = Chem.MolFromSmiles(azide_smiles)\n",
    "\n",
    "Draw.MolsToGridImage([diyne, azide])"
   ]
  },
  {
   "cell_type": "code",
   "execution_count": 33,
   "metadata": {},
   "outputs": [],
   "source": [
    "# define reaction\n",
    "copper_click_smarts = '''\n",
    "[CH:1]#[C:2].[N:3]=[N+:4]=[N-:5]>>\n",
    "[c:1]1[c:2][n-0:3][n-0:4][n-0:5]1.\n",
    "[c:2]1[c:1][n-0:3][n-0:4][n-0:5]1\n",
    "'''\n",
    "\n",
    "copper_click = AllChem.ReactionFromSmarts(copper_click_smarts)"
   ]
  },
  {
   "cell_type": "markdown",
   "metadata": {},
   "source": [
    "$\\require{mhchem}$\n",
    "Most varieties of the copper click work on terminal alkynes.  That presents a problem if we want to represent the variable regioselectivity (sometimes 1,4-disubstituted triazoles result, and sometimes 1,5-disubstituted triazoles result), because in the reactions SMARTS each carbon must be labeled with a specified & unique number.  So defining a reactant as something like `'([CH:1]#[C:2],[CH:2]#[C:1])'`, meaning that atom numbering is either $\\ce{H-^1C^#^2C-R}$ **or** $\\ce{H-^2C^#^1C-R}$) is NOT allowed.\n",
    "\n",
    "Here, we solve the problem by letting the reaction form two products, the first of which is the 1,4 product and the second of which is the 1,5 product."
   ]
  },
  {
   "cell_type": "code",
   "execution_count": 34,
   "metadata": {},
   "outputs": [
    {
     "data": {
      "text/plain": [
       "[rdkit.Chem.rdmolops.SanitizeFlags.SANITIZE_NONE,\n",
       " rdkit.Chem.rdmolops.SanitizeFlags.SANITIZE_NONE,\n",
       " rdkit.Chem.rdmolops.SanitizeFlags.SANITIZE_NONE,\n",
       " rdkit.Chem.rdmolops.SanitizeFlags.SANITIZE_NONE]"
      ]
     },
     "execution_count": 34,
     "metadata": {},
     "output_type": "execute_result"
    }
   ],
   "source": [
    "products_tuples = copper_click.RunReactants((diyne, azide))\n",
    "products = list(chain.from_iterable(products_tuples))\n",
    "[Chem.SanitizeMol(prod) for prod in products]"
   ]
  },
  {
   "cell_type": "code",
   "execution_count": 35,
   "metadata": {},
   "outputs": [
    {
     "data": {
      "image/png": "[encoded data removed]",
      "text/plain": [
       "<PIL.PngImagePlugin.PngImageFile image mode=RGB size=800x200 at 0x1D670C5F780>"
      ]
     },
     "execution_count": 35,
     "metadata": {},
     "output_type": "execute_result"
    }
   ],
   "source": [
    "Draw.MolsToGridImage(products, molsPerRow = 4)"
   ]
  },
  {
   "cell_type": "markdown",
   "metadata": {},
   "source": [
    "The reaction rule, as we saw above with glycerol, is only executed once per species.  So \"reactive\" groups remain in the output molecules.  Some simple Python scripting could then react these molecules again, generating the (bis)-triazoles.\n",
    "\n",
    "For more complex editing and manipulation of molecules, it might be worthwhile to investigate [RWMol objects](http://www.rdkit.org/Python_Docs/rdkit.Chem.rdchem.RWMol-class.html) instead of or in addition to the SMARTS reactions examples illustrated here."
   ]
  },
  {
   "cell_type": "markdown",
   "metadata": {},
   "source": [
    "tutorial author: Curt Fischer, Jan 2017"
   ]
  }
 ],
 "metadata": {
  "kernelspec": {
   "display_name": "Python 3",
   "language": "python",
   "name": "python3"
  },
  "language_info": {
   "codemirror_mode": {
    "name": "ipython",
    "version": 3
   },
   "file_extension": ".py",
   "mimetype": "text/x-python",
   "name": "python",
   "nbconvert_exporter": "python",
   "pygments_lexer": "ipython3",
   "version": "3.6.5"
  }
 },
 "nbformat": 4,
 "nbformat_minor": 2
}

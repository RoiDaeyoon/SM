{
 "cells": [
  {
   "cell_type": "markdown",
   "metadata": {},
   "source": [
    "### 3. Logical Operators\n",
    "\n",
    "Symbol | Expression | Meaning\n",
    "---------|-------|----------\n",
    "exclamation | !e1 | not e1\n",
    "ampersand | e1&e2 | a1 and e2 (high precedence)\n",
    "comma | e1,e2 | e1 or e2\n",
    "semicolon | e1;e2 | e1 and e2 (low precedence)\n",
    "\n",
    "Logical Operators 는 반드시 `[ ] (Bracket)` 로 감싸준다."
   ]
  },
  {
   "cell_type": "code",
   "execution_count": 1,
   "metadata": {},
   "outputs": [],
   "source": [
    "from __future__ import print_function\n",
    "from rdkit import Chem\n",
    "from rdkit.Chem import AllChem\n",
    "from rdkit.Chem.Draw import IPythonConsole\n",
    "from rdkit.Chem import Draw"
   ]
  },
  {
   "cell_type": "code",
   "execution_count": 2,
   "metadata": {},
   "outputs": [],
   "source": [
    "mol1 = Chem.MolFromSmiles('c1ccccc1')\n",
    "mol2 = Chem.MolFromSmiles('CCCCCC')\n",
    "mol3 = Chem.MolFromSmiles('C1CCCCC1')\n",
    "\n",
    "my_mol = [mol1,\n",
    "          mol2,\n",
    "          mol3\n",
    "         ]"
   ]
  },
  {
   "cell_type": "code",
   "execution_count": 3,
   "metadata": {},
   "outputs": [
    {
     "data": {
      "image/png": "[encoded data removed]",
      "text/plain": [
       "<PIL.PngImagePlugin.PngImageFile image mode=RGB size=600x200 at 0x16C669A0588>"
      ]
     },
     "execution_count": 3,
     "metadata": {},
     "output_type": "execute_result"
    }
   ],
   "source": [
    "Draw.MolsToGridImage(my_mol, useSVG=False)"
   ]
  },
  {
   "cell_type": "code",
   "execution_count": 4,
   "metadata": {},
   "outputs": [],
   "source": [
    "# not aromatic\n",
    "noaromatic = Chem.MolFromSmarts('[!c]')"
   ]
  },
  {
   "cell_type": "code",
   "execution_count": 5,
   "metadata": {},
   "outputs": [
    {
     "data": {
      "text/plain": [
       "[False, True, True]"
      ]
     },
     "execution_count": 5,
     "metadata": {},
     "output_type": "execute_result"
    }
   ],
   "source": [
    "[mol.HasSubstructMatch(noaromatic) for mol in my_mol]"
   ]
  },
  {
   "cell_type": "code",
   "execution_count": 6,
   "metadata": {},
   "outputs": [],
   "source": [
    "# Ring O / X\n",
    "no1 = Chem.MolFromSmarts('[R]')"
   ]
  },
  {
   "cell_type": "code",
   "execution_count": 7,
   "metadata": {},
   "outputs": [
    {
     "data": {
      "text/plain": [
       "[True, False, True]"
      ]
     },
     "execution_count": 7,
     "metadata": {},
     "output_type": "execute_result"
    }
   ],
   "source": [
    "[mol.HasSubstructMatch(no1) for mol in my_mol]"
   ]
  },
  {
   "cell_type": "code",
   "execution_count": 8,
   "metadata": {},
   "outputs": [],
   "source": [
    "# And ( HIgh precedence )\n",
    "no2 = Chem.MolFromSmarts('[!c&R]')"
   ]
  },
  {
   "cell_type": "code",
   "execution_count": 9,
   "metadata": {},
   "outputs": [
    {
     "data": {
      "text/plain": [
       "[False, False, True]"
      ]
     },
     "execution_count": 9,
     "metadata": {},
     "output_type": "execute_result"
    }
   ],
   "source": [
    "[mol.HasSubstructMatch(no2) for mol in my_mol]"
   ]
  },
  {
   "cell_type": "code",
   "execution_count": 10,
   "metadata": {},
   "outputs": [],
   "source": [
    "# Or\n",
    "no3 = Chem.MolFromSmarts('[!c,R]')"
   ]
  },
  {
   "cell_type": "code",
   "execution_count": 11,
   "metadata": {},
   "outputs": [
    {
     "data": {
      "text/plain": [
       "[True, True, True]"
      ]
     },
     "execution_count": 11,
     "metadata": {},
     "output_type": "execute_result"
    }
   ],
   "source": [
    "[mol.HasSubstructMatch(no3) for mol in my_mol]"
   ]
  },
  {
   "cell_type": "code",
   "execution_count": 12,
   "metadata": {},
   "outputs": [],
   "source": [
    "# And ( low precedence )\n",
    "no4 = Chem.MolFromSmarts('[!c;R]')"
   ]
  },
  {
   "cell_type": "code",
   "execution_count": 13,
   "metadata": {},
   "outputs": [
    {
     "data": {
      "text/plain": [
       "[False, False, True]"
      ]
     },
     "execution_count": 13,
     "metadata": {},
     "output_type": "execute_result"
    }
   ],
   "source": [
    "[mol.HasSubstructMatch(no4) for mol in my_mol]"
   ]
  },
  {
   "cell_type": "markdown",
   "metadata": {},
   "source": [
    "### 4. Recursive SMARTS  (  ` $ ` )\n",
    "\n",
    "` $(SMARTS) ` \n"
   ]
  },
  {
   "cell_type": "code",
   "execution_count": 14,
   "metadata": {},
   "outputs": [],
   "source": [
    "mol1 = Chem.MolFromSmiles('c1c(O)c(N)ccc1')\n",
    "mol2 = Chem.MolFromSmiles('c1c(O)cc(N)cc1')\n",
    "mol3 = Chem.MolFromSmiles('c1c(O)ccc(N)c1')\n",
    "\n",
    "my_mol = [mol1,\n",
    "          mol2,\n",
    "          mol3\n",
    "         ]"
   ]
  },
  {
   "cell_type": "code",
   "execution_count": 15,
   "metadata": {},
   "outputs": [
    {
     "data": {
      "image/png": "[encoded data removed]",
      "text/plain": [
       "<PIL.PngImagePlugin.PngImageFile image mode=RGB size=600x200 at 0x16C68155F60>"
      ]
     },
     "execution_count": 15,
     "metadata": {},
     "output_type": "execute_result"
    }
   ],
   "source": [
    "Draw.MolsToGridImage(my_mol, useSVG=False)"
   ]
  },
  {
   "cell_type": "code",
   "execution_count": 16,
   "metadata": {},
   "outputs": [
    {
     "data": {
      "text/plain": [
       "[True, True, True]"
      ]
     },
     "execution_count": 16,
     "metadata": {},
     "output_type": "execute_result"
    }
   ],
   "source": [
    "no6 = Chem.MolFromSmarts('[#6]aaO')     # Ortho 'O'\n",
    "[mol.HasSubstructMatch(no6) for mol in my_mol]"
   ]
  },
  {
   "cell_type": "code",
   "execution_count": 17,
   "metadata": {},
   "outputs": [
    {
     "data": {
      "text/plain": [
       "[True, True, True]"
      ]
     },
     "execution_count": 17,
     "metadata": {},
     "output_type": "execute_result"
    }
   ],
   "source": [
    "no7 = Chem.MolFromSmarts('[#6]aaaN')    # Meta 'N'\n",
    "[mol.HasSubstructMatch(no7) for mol in my_mol]"
   ]
  },
  {
   "cell_type": "code",
   "execution_count": 18,
   "metadata": {},
   "outputs": [
    {
     "data": {
      "text/plain": [
       "[True, False, False]"
      ]
     },
     "execution_count": 18,
     "metadata": {},
     "output_type": "execute_result"
    }
   ],
   "source": [
    "no8 = Chem.MolFromSmarts('[#6]aa(O)aN')      # Ortho 'O' + Meta 'N'   ( only 2nd O, 3rd N)\n",
    "[mol.HasSubstructMatch(no8) for mol in my_mol]"
   ]
  },
  {
   "cell_type": "code",
   "execution_count": 19,
   "metadata": {},
   "outputs": [
    {
     "data": {
      "text/plain": [
       "[True, False, True]"
      ]
     },
     "execution_count": 19,
     "metadata": {},
     "output_type": "execute_result"
    }
   ],
   "source": [
    "no9 = Chem.MolFromSmarts('[#6][$(aaO);$(aaaN)]')     # 기준이 되는 [#6] 이 같다\n",
    "[mol.HasSubstructMatch(no9) for mol in my_mol]"
   ]
  },
  {
   "cell_type": "markdown",
   "metadata": {},
   "source": [
    "### 5. Component-level grouping of SMARTS\n",
    "\n",
    "<br>\n",
    "\n",
    "```\n",
    "SMARTS.SMARTS\n",
    "(SMARTS).(SMARTS)\n",
    "(SMARTS.SMARTS)\n",
    "```\n"
   ]
  },
  {
   "cell_type": "code",
   "execution_count": 20,
   "metadata": {},
   "outputs": [],
   "source": [
    "mol1 = Chem.MolFromSmiles('O=O')\n",
    "mol2 = Chem.MolFromSmiles('OCCO')\n",
    "mol3 = Chem.MolFromSmiles('O.CCO')\n",
    "\n",
    "my_mol = [mol1,\n",
    "          mol2,\n",
    "          mol3\n",
    "         ]"
   ]
  },
  {
   "cell_type": "code",
   "execution_count": 21,
   "metadata": {},
   "outputs": [
    {
     "data": {
      "image/png": "[encoded data removed]",
      "text/plain": [
       "<PIL.PngImagePlugin.PngImageFile image mode=RGB size=600x200 at 0x16C68160710>"
      ]
     },
     "execution_count": 21,
     "metadata": {},
     "output_type": "execute_result"
    }
   ],
   "source": [
    "Draw.MolsToGridImage(my_mol, useSVG=False)"
   ]
  },
  {
   "cell_type": "code",
   "execution_count": 22,
   "metadata": {},
   "outputs": [
    {
     "data": {
      "text/plain": [
       "[True, True, True]"
      ]
     },
     "execution_count": 22,
     "metadata": {},
     "output_type": "execute_result"
    }
   ],
   "source": [
    "no10 = Chem.MolFromSmarts('[#8].[#8]')\n",
    "[mol.HasSubstructMatch(no10) for mol in my_mol]"
   ]
  },
  {
   "cell_type": "code",
   "execution_count": 23,
   "metadata": {},
   "outputs": [],
   "source": [
    "no11 = Chem.MolFromSmarts('([#8].[#8])')\n",
    "#[mol.HasSubstructMatch(no11) for mol in my_mol]"
   ]
  },
  {
   "cell_type": "code",
   "execution_count": 24,
   "metadata": {},
   "outputs": [],
   "source": [
    "no12 = Chem.MolFromSmarts('([#8]).([#8])')\n",
    "#[mol.HasSubstructMatch(no12) for mol in my_mol]"
   ]
  }
 ],
 "metadata": {
  "kernelspec": {
   "display_name": "Python 3",
   "language": "python",
   "name": "python3"
  },
  "language_info": {
   "codemirror_mode": {
    "name": "ipython",
    "version": 3
   },
   "file_extension": ".py",
   "mimetype": "text/x-python",
   "name": "python",
   "nbconvert_exporter": "python",
   "pygments_lexer": "ipython3",
   "version": "3.7.3"
  }
 },
 "nbformat": 4,
 "nbformat_minor": 2
}

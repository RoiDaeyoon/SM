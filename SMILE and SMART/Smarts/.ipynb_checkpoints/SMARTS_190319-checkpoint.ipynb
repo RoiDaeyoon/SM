{
 "cells": [
  {
   "cell_type": "markdown",
   "metadata": {},
   "source": [
    "# SMARTS (SMiles ARbitrary Target Specification)\n",
    "<br><br>\n",
    "\n",
    "> 참고\n",
    "* [Daylight](http://www.daylight.com/dayhtml/doc/theory/theory.smiles.html)\n",
    "* [RDKit](https://www.rdkit.org/)"
   ]
  },
  {
   "cell_type": "markdown",
   "metadata": {},
   "source": [
    "SMARTS | SMILES\n",
    "---- | ----\n",
    "Molecular pattern | Molecular structure"
   ]
  },
  {
   "cell_type": "markdown",
   "metadata": {},
   "source": [
    "### Introduction\n",
    "* SMARTS는 SMiles ARbitrary Target Specification(임의의 목표 명시)를 의미한다.\n",
    "* 분자의 패턴이나 성질을 표현하기 위한 언어이다.\n",
    "* SMILES의 연장이다\n",
    "> 모든 SMILES의 symbols(atoms & bonds)과 properties(특징; 원자의 표현, 전하, 이성질체의 명시)는 SMARTS에서 유효하다<br>\n",
    " SMARTS는 logical한 연산자들과 추가적인 분자 표현자들을 포함한다.\n",
    " >> SMARTS atomic symbol [C,N]은 지방족 C 혹은 N이 될 수 있다; SMARTS의 결합 symbol인 ~은 어떤 결합고도 일치한다.\n",
    " \n",
    "* 구조적 패턴을 generality(일반성)와 specificity(특수성, 특별함)의 정도로 다양하게 표현할 수 있다.\n",
    "> SMILES에선 methane을 C or [CH4]로 표현할 수 있다\n",
    "> High specificity SMARTS는 methane : [CH4]<br>\n",
    ">> [CH4]는 4개의 수소를 갖는 지방족의 탄소 원자들과 일치된다.<br>\n",
    "[CH4]는 ehtane, ethene, 혹은 cyclopentane과는 일치하지 않는다.\n",
    "\n",
    "> Low specificity SMARTS는 methane : C<br>\n",
    ">> C는 어떤 수를 가진 수소를 갖는 지방족의 탄소 원자들과 일치된다.<br>\n",
    "C는 ehtane, ethene, 혹은 cyclopentane과는 일치할 수 있다."
   ]
  },
  {
   "cell_type": "code",
   "execution_count": 1,
   "metadata": {},
   "outputs": [],
   "source": [
    "#RDkit 적용\n",
    "from __future__ import print_function #2.X대 python호환을 위해\n",
    "from rdkit import Chem\n",
    "from rdkit.Chem import AllChem"
   ]
  },
  {
   "cell_type": "code",
   "execution_count": 2,
   "metadata": {},
   "outputs": [],
   "source": [
    "from rdkit.Chem.Draw import IPythonConsole\n",
    "from rdkit.Chem import Draw"
   ]
  },
  {
   "cell_type": "code",
   "execution_count": 3,
   "metadata": {},
   "outputs": [
    {
     "data": {
      "image/png": "[encoded data removed]",
      "text/plain": [
       "<rdkit.Chem.rdchem.Mol at 0x181cc2983f0>"
      ]
     },
     "execution_count": 3,
     "metadata": {},
     "output_type": "execute_result"
    }
   ],
   "source": [
    "methane1 = AllChem.MolFromSmiles('C') #or [CH4]\n",
    "methane1"
   ]
  },
  {
   "cell_type": "markdown",
   "metadata": {},
   "source": [
    "### 1.Atomic Primitives\n",
    "* SMARTS는 SMILES에서 사용되는 원자의 특징(원자 기호, 전하, 이성질체의 명시)보다 더 큰 범주의 많은 원자의 표현을 제공한다.\n",
    "* <**n**> : 숫자 , <**c**> : chiral class"
   ]
  },
  {
   "cell_type": "markdown",
   "metadata": {},
   "source": [
    "Symbol | Symbol name | Atomic property requirements | Default\n",
    "---- | ---- | ----| ----\n",
    "* | wildcard | any atom | (no default)\n",
    "a | aromatic | aromatic | (no default)\n",
    "A | aliphatic | aliphatic | (no default)\n",
    "D<$n$> | degree | <$n$> explicit connections | exactly one\n",
    "H<$n$> | total-H-count | <$n$> attached hydrogens | exactly one\n",
    "h<$n$> | implicit-H-count | <$n$> implicit hydrogens | at least one\n",
    "R<$n$> | ring membership | in <$n$> SSSR rings | any ring atom\n",
    "r<$n$> | ring size | in smallest SSSR ring of size <$n$> | any ring atom\n",
    "v<$n$> | valence | total bond order <$n$> | exactly one\n",
    "X<$n$> | connectivity | <$n$> total connections | exactly one\n",
    "x<$n$> | ring connectivity | <$n$> total ring connections | at least one\n",
    "- <$n$> | negative charge | -<$n$> charge | -1 charge (-- is -2, etc)\n",
    "+<$n$> | positive charge | +<$n$> formal charge | +1 charge (++ is +2, etc)\n",
    "#n | atomic number | atomic number <$n$> | (no default)\n",
    "@ | chirality | anticlockwise | anticlockwise, default class\n",
    "@@ | chirality | clockwise | clockwise, default class\n",
    "@<$c$><$n$> | chirality | chiral class <$c$> chirality <$n$> | (nodefault)\n",
    "@<$c$><$n$>? | chiral or unspec | chirality <$c$><$n$> or unspecified | (no default)\n",
    "<$n$> | atomic mass | explicit atomic mass | unspecified mass\n",
    "\n",
    "**Examples**"
   ]
  },
  {
   "cell_type": "markdown",
   "metadata": {},
   "source": [
    "Symbol | Atomic property requirements\n",
    "---- | ----\n",
    "C | aliphatic carbon atom\n",
    "c | aromatic carbon atom\n",
    "a | aromatic atom\n",
    "[#6] | carbon atom\n",
    "[Ca] | calcium atom\n",
    "[++] | atom with a +2 charge | \n",
    "[R] | atom in any ring\n",
    "[D3] | atom with 3 explicit bonds (implicit H's don't count)\n",
    "[X3] | atom with 3 total bonds (includes implicit H's)\n",
    "[v3] | atom with bond orders totaling 3 (includes implicit H's)\n",
    "C[C@H](F)O | match chirality (H-F-O anticlockwise viewed from C)\n",
    "C[C@?H](F)O | matches if chirality is as specified or is not specified"
   ]
  }
 ],
 "metadata": {
  "kernelspec": {
   "display_name": "Python 3",
   "language": "python",
   "name": "python3"
  },
  "language_info": {
   "codemirror_mode": {
    "name": "ipython",
    "version": 3
   },
   "file_extension": ".py",
   "mimetype": "text/x-python",
   "name": "python",
   "nbconvert_exporter": "python",
   "pygments_lexer": "ipython3",
   "version": "3.7.3"
  }
 },
 "nbformat": 4,
 "nbformat_minor": 2
}

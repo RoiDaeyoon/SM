{
 "cells": [
  {
   "cell_type": "markdown",
   "metadata": {},
   "source": [
    "### 4. Recursive SMARTS(추가)"
   ]
  },
  {
   "cell_type": "code",
   "execution_count": 1,
   "metadata": {},
   "outputs": [],
   "source": [
    "from __future__ import print_function\n",
    "from rdkit import Chem\n",
    "from rdkit.Chem import AllChem\n",
    "from rdkit.Chem.Draw import IPythonConsole\n",
    "from rdkit.Chem import Draw"
   ]
  },
  {
   "cell_type": "code",
   "execution_count": 2,
   "metadata": {},
   "outputs": [],
   "source": [
    "mol1 = Chem.MolFromSmiles('c1ccccc1')\n",
    "mol2 = Chem.MolFromSmiles('o1cccc1')\n",
    "mol3 = Chem.MolFromSmiles('C1CCCCC1')\n",
    "\n",
    "my_mol = [mol1,\n",
    "          mol2,\n",
    "          mol3\n",
    "         ]"
   ]
  },
  {
   "cell_type": "code",
   "execution_count": 3,
   "metadata": {},
   "outputs": [
    {
     "data": {
      "image/png": "[encoded data removed]",
      "text/plain": [
       "<PIL.PngImagePlugin.PngImageFile image mode=RGB size=600x200 at 0x209A27B37B8>"
      ]
     },
     "execution_count": 3,
     "metadata": {},
     "output_type": "execute_result"
    }
   ],
   "source": [
    "Draw.MolsToGridImage(my_mol, useSVG=False)"
   ]
  },
  {
   "cell_type": "code",
   "execution_count": 4,
   "metadata": {},
   "outputs": [],
   "source": [
    "mol4 = Chem.MolFromSmiles('c1c(O)c(N)ccc1')\n",
    "mol5 = Chem.MolFromSmiles('c1c(O)cc(N)cc1')\n",
    "mol6 = Chem.MolFromSmiles('c1c(O)ccc(N)c1')\n",
    "\n",
    "ex_mol = [mol4,\n",
    "          mol5,\n",
    "          mol6\n",
    "         ]"
   ]
  },
  {
   "cell_type": "code",
   "execution_count": 5,
   "metadata": {},
   "outputs": [
    {
     "data": {
      "image/png": "[encoded data removed]",
      "text/plain": [
       "<PIL.PngImagePlugin.PngImageFile image mode=RGB size=600x200 at 0x209A3F68CF8>"
      ]
     },
     "execution_count": 5,
     "metadata": {},
     "output_type": "execute_result"
    }
   ],
   "source": [
    "Draw.MolsToGridImage(ex_mol, useSVG=False)"
   ]
  },
  {
   "cell_type": "markdown",
   "metadata": {},
   "source": [
    "![orth,meta,para](https://s11452.pcdn.co/wp-content/uploads/2018/01/3-ortho-para-1-e1516917639506.png)"
   ]
  },
  {
   "cell_type": "code",
   "execution_count": 6,
   "metadata": {},
   "outputs": [
    {
     "data": {
      "text/plain": [
       "[False, False, False]"
      ]
     },
     "execution_count": 6,
     "metadata": {},
     "output_type": "execute_result"
    }
   ],
   "source": [
    "no1 = Chem.MolFromSmarts('CaaO')    \n",
    "[mol.HasSubstructMatch(no1) for mol in my_mol]"
   ]
  },
  {
   "cell_type": "code",
   "execution_count": 7,
   "metadata": {},
   "outputs": [
    {
     "data": {
      "text/plain": [
       "[False, False, False]"
      ]
     },
     "execution_count": 7,
     "metadata": {},
     "output_type": "execute_result"
    }
   ],
   "source": [
    "no1 = Chem.MolFromSmarts('CaaO')  \n",
    "[mol.HasSubstructMatch(no1) for mol in ex_mol]"
   ]
  },
  {
   "cell_type": "code",
   "execution_count": 8,
   "metadata": {},
   "outputs": [
    {
     "data": {
      "text/plain": [
       "[False, False, False]"
      ]
     },
     "execution_count": 8,
     "metadata": {},
     "output_type": "execute_result"
    }
   ],
   "source": [
    "no2 = Chem.MolFromSmarts('caaO')\n",
    "[mol.HasSubstructMatch(no2) for mol in my_mol]"
   ]
  },
  {
   "cell_type": "code",
   "execution_count": 9,
   "metadata": {},
   "outputs": [
    {
     "data": {
      "text/plain": [
       "[True, True, True]"
      ]
     },
     "execution_count": 9,
     "metadata": {},
     "output_type": "execute_result"
    }
   ],
   "source": [
    "no2 = Chem.MolFromSmarts('caaO')\n",
    "[mol.HasSubstructMatch(no2) for mol in ex_mol]"
   ]
  },
  {
   "cell_type": "code",
   "execution_count": 10,
   "metadata": {},
   "outputs": [
    {
     "data": {
      "text/plain": [
       "[False, False, False]"
      ]
     },
     "execution_count": 10,
     "metadata": {},
     "output_type": "execute_result"
    }
   ],
   "source": [
    "no3 = Chem.MolFromSmarts('NaaO')\n",
    "[mol.HasSubstructMatch(no3) for mol in my_mol]"
   ]
  },
  {
   "cell_type": "code",
   "execution_count": 11,
   "metadata": {},
   "outputs": [
    {
     "data": {
      "text/plain": [
       "[True, False, False]"
      ]
     },
     "execution_count": 11,
     "metadata": {},
     "output_type": "execute_result"
    }
   ],
   "source": [
    "no3 = Chem.MolFromSmarts('NaaO')\n",
    "[mol.HasSubstructMatch(no3) for mol in ex_mol]"
   ]
  },
  {
   "cell_type": "code",
   "execution_count": 12,
   "metadata": {},
   "outputs": [
    {
     "data": {
      "text/plain": [
       "[False, False, False]"
      ]
     },
     "execution_count": 12,
     "metadata": {},
     "output_type": "execute_result"
    }
   ],
   "source": [
    "no4 = Chem.MolFromSmarts('CaaaN')\n",
    "[mol.HasSubstructMatch(no4) for mol in my_mol]"
   ]
  },
  {
   "cell_type": "code",
   "execution_count": 13,
   "metadata": {},
   "outputs": [
    {
     "data": {
      "text/plain": [
       "[False, False, False]"
      ]
     },
     "execution_count": 13,
     "metadata": {},
     "output_type": "execute_result"
    }
   ],
   "source": [
    "no4 = Chem.MolFromSmarts('CaaaN')\n",
    "[mol.HasSubstructMatch(no4) for mol in ex_mol]"
   ]
  },
  {
   "cell_type": "code",
   "execution_count": 14,
   "metadata": {},
   "outputs": [
    {
     "data": {
      "text/plain": [
       "[False, False, False]"
      ]
     },
     "execution_count": 14,
     "metadata": {},
     "output_type": "execute_result"
    }
   ],
   "source": [
    "no5 = Chem.MolFromSmarts('caaaN')\n",
    "[mol.HasSubstructMatch(no5) for mol in my_mol]"
   ]
  },
  {
   "cell_type": "code",
   "execution_count": 15,
   "metadata": {},
   "outputs": [
    {
     "data": {
      "text/plain": [
       "[True, True, True]"
      ]
     },
     "execution_count": 15,
     "metadata": {},
     "output_type": "execute_result"
    }
   ],
   "source": [
    "no5 = Chem.MolFromSmarts('caaaN')\n",
    "[mol.HasSubstructMatch(no5) for mol in ex_mol]"
   ]
  },
  {
   "cell_type": "markdown",
   "metadata": {},
   "source": [
    "* 한 가지의 기준 원소를 기준으로 ortho-, meta-, para-를 표현\n",
    "* aromatic c의 경우 고리가 'c'로 구성되므로 임의의 'c'가 `Match`한다면 True 출력"
   ]
  },
  {
   "cell_type": "markdown",
   "metadata": {},
   "source": [
    "### 6. Reaction Queries\n",
    "\n",
    "* A reaction query는 reactant, agent, product로 구성되며, 각 성분은 \">\"문자로 구분된다.\n",
    "\n",
    "Query | Target | Matches\n",
    "---------|-------|----------\n",
    "`C>>` | CC>>CN | 2\n",
    "`>C>` | CC>>CN | 0\n",
    "`>>C` | CC>>CN | 1\n",
    "`C` | CC>>CN | 3"
   ]
  },
  {
   "cell_type": "markdown",
   "metadata": {},
   "source": [
    "### Reaction Atom Maps\n",
    "\n",
    "> `Atom Map`은 컴퓨터가 반응물과 생성물사이의 같은 원자임을 알 수 있게 명확하게 표현해주는 방법이다.\n",
    "\n",
    "* 원하는 원자의 뒤에 `:`와 숫자를 이용해 표시한다. ( `[CH3:2]` 는 `H`를 3개 가지고 있는 탄소에 2번을 부여함을 의미한다.  )\n",
    "* 부여한 숫자는 추가적인 성질을 나타내지 않는다. 단지 구분짓기 위함이다. ( 단, 모든 원자에 같은 숫자를 부여할 경우는 제외. )\n",
    "\n",
    "### Atom Map은 유일하거나 완전하지 않다.\n",
    "\n",
    "1. 반응이 일어날 때, 분자에 결합을 표현하는데 한계가 있다. <br>\n",
    "2. 반응매커니즘이 애매할 때 <br>\n",
    "예를들어, ![secondcase](http://www.daylight.com/dayhtml/doc/theory/cope.gif) <br>\n",
    "이 경우 실제로는 두가지의 다른 반응 매커니즘이 있지만,  `[CH2:1]=[CH:2][CH2:1][CH2:3][C:4](C)[CH2:3]`으로 표현해준다.\n",
    "3. 반응에 대한 정보가 부족한 경우. <br>\n",
    "확실한 정보에 대해서 부분적으로만 `Mapping`한다. 절대로 모르는 반응에 입력하려하면 안 된다.<br>\n",
    "`Atom Map`은 `unique SMILES`에서 나타나지않는다. <br>\n",
    "4. `Atom Map`은 어떤 의미도 가지지않는 숫자일 뿐이다."
   ]
  },
  {
   "cell_type": "markdown",
   "metadata": {},
   "source": [
    "* **The atom mapping for a reaction query is optional**. When included in the definition of the pattern, **it is used for searching**.\n",
    "* Each of the hits is examined **to make sure the atom map classes match on the reactant and product sides of the reaction.**\n",
    "* An atom map is a property which must be evaluated on a global scope during the match.\n",
    "* In SMARTS, the atom map has unusual semantics.\n",
    "* **One can not know if the map is correct without considering every atom in the match, in effect requiring the enumeration of every possible path before testing.** \n",
    "* **This is much more computationally expensive than the current SMARTS implementation**\n",
    "* **The expressiveness of SMARTS for atom maps has been limited to a low-precedence and operation.**\n",
    "* That is, only expressions of form: **\"`[expr:n]`\" or \"`[expr:?n]`\" are allowed**, where \"expr\" is any legal atomic expression excluding atom maps and \"n\" is a map class value."
   ]
  },
  {
   "cell_type": "markdown",
   "metadata": {},
   "source": [
    "Query: | Target: | Matches: | Comment:\n",
    "---- | ---- | ---- | -----\n",
    "C>>C | CC>>CC | 4 | No maps, normal match.\n",
    "C>>C | `[CH3:7][CH3:8]>> [CH3:7][CH3:8]` | 4 | No maps in query, maps in target are ignored.\n",
    "`[C:1]>>C` | `[CH3:7][CH3:8]>> [CH3:7][CH3:8]` | 4 | Unpaired map in query ignored.\n",
    "`[C:1]>>[C:1]` | CC>>CC | 0 | No maps in target, hence no matches.\n",
    "`[C:?1]>>[C:?1]` | CC>>CC | 4 | Query says mapped as shown or not present.\n",
    "`[C:1]>>[C:1]` | `[CH3:7][CH3:8]>>[CH3:7][CH3:8]` | 2 | Matches for target 7,7 and 8,8 atom pairs.\n",
    "`[C:1]>>[C:2]` | `[CH3:7][CH3:8]>> [CH3:7][CH3:8]` | 4 | When a query class is not found on both sides of the query, it is ignored; this query does NOT say that the atoms are in different classes.\n",
    "`[C:1][C:1]>>[C:1]` | `[CH3:7][CH3:7]>> [CH3:7][CH3:7]` | 4 | Atom maps match with \"or\" logic. All atoms get bound to class 7.\n",
    "`[C:1][C:1]>>[C:1]` | `[CH3:7][CH3:8]>> [CH3:7][CH3:8]` | 4 | The reactant atoms are bound to classes 7 and 8. Note that having the first query atom bound to class 7 does not preclude binding the second atom. Next, the product atom can bind to classes 7 or 8.\n",
    "`[C:1][C:1]>>[C:1]` | `[CH3:7][CH3:7]>> [CH3:7][CH3:8]` | 2 | The reactants are bound to class 7. The product atom can bind to class 7 only."
   ]
  },
  {
   "cell_type": "markdown",
   "metadata": {},
   "source": [
    "### Chemical Reaction Handling\n",
    "\n",
    "Chemical Reaction is derived from SMARTS\n",
    "* reaction  ::=   reactants \">>\" products\n",
    "* reactants ::=  molecules\n",
    "* products  ::=   molecules"
   ]
  },
  {
   "cell_type": "code",
   "execution_count": 16,
   "metadata": {},
   "outputs": [
    {
     "data": {
      "image/png": "[encoded data removed]",
      "text/plain": [
       "<rdkit.Chem.rdChemReactions.ChemicalReaction at 0x209a3f90c60>"
      ]
     },
     "execution_count": 16,
     "metadata": {},
     "output_type": "execute_result"
    }
   ],
   "source": [
    "rxn = AllChem.ReactionFromSmarts('[CH3:1]-[C:2](=[O:3])-[O-:5].[Na+:4]>[H]-Cl>[CH3:1]-[C:2](=[O:5])-[OH:3]')\n",
    "rxn"
   ]
  },
  {
   "cell_type": "code",
   "execution_count": 17,
   "metadata": {},
   "outputs": [
    {
     "data": {
      "text/plain": [
       "1"
      ]
     },
     "execution_count": 17,
     "metadata": {},
     "output_type": "execute_result"
    }
   ],
   "source": [
    "rxn.GetNumProductTemplates()"
   ]
  },
  {
   "cell_type": "code",
   "execution_count": 18,
   "metadata": {},
   "outputs": [
    {
     "data": {
      "text/plain": [
       "2"
      ]
     },
     "execution_count": 18,
     "metadata": {},
     "output_type": "execute_result"
    }
   ],
   "source": [
    "rxn.GetNumReactantTemplates()"
   ]
  },
  {
   "cell_type": "code",
   "execution_count": 19,
   "metadata": {},
   "outputs": [
    {
     "data": {
      "image/png": "[encoded data removed]",
      "text/plain": [
       "<rdkit.Chem.rdChemReactions.ChemicalReaction at 0x209a3fa33f0>"
      ]
     },
     "execution_count": 19,
     "metadata": {},
     "output_type": "execute_result"
    }
   ],
   "source": [
    "rxn = AllChem.ReactionFromSmarts('[I-].[Na+].C=C-C-Br >> [Na+].[Br-].C=C-C-I ')\n",
    "rxn"
   ]
  },
  {
   "cell_type": "code",
   "execution_count": 20,
   "metadata": {},
   "outputs": [
    {
     "data": {
      "text/plain": [
       "3"
      ]
     },
     "execution_count": 20,
     "metadata": {},
     "output_type": "execute_result"
    }
   ],
   "source": [
    "rxn.GetNumProductTemplates()"
   ]
  },
  {
   "cell_type": "code",
   "execution_count": 21,
   "metadata": {},
   "outputs": [
    {
     "data": {
      "text/plain": [
       "3"
      ]
     },
     "execution_count": 21,
     "metadata": {},
     "output_type": "execute_result"
    }
   ],
   "source": [
    "rxn.GetNumReactantTemplates()"
   ]
  },
  {
   "cell_type": "code",
   "execution_count": 22,
   "metadata": {},
   "outputs": [],
   "source": [
    "rxn = AllChem.ReactionFromSmarts('[C:1]=[O,N:2]>>[C:1][*:2]')"
   ]
  },
  {
   "cell_type": "code",
   "execution_count": 23,
   "metadata": {},
   "outputs": [
    {
     "data": {
      "text/plain": [
       "['CCO']"
      ]
     },
     "execution_count": 23,
     "metadata": {},
     "output_type": "execute_result"
    }
   ],
   "source": [
    "[Chem.MolToSmiles(x,1) for x in rxn.RunReactants((Chem.MolFromSmiles('CC=O'),))[0]]"
   ]
  },
  {
   "cell_type": "code",
   "execution_count": 24,
   "metadata": {},
   "outputs": [
    {
     "data": {
      "text/plain": [
       "['CCN']"
      ]
     },
     "execution_count": 24,
     "metadata": {},
     "output_type": "execute_result"
    }
   ],
   "source": [
    "[Chem.MolToSmiles(x,1) for x in rxn.RunReactants((Chem.MolFromSmiles('CC=N'),))[0]]"
   ]
  },
  {
   "cell_type": "code",
   "execution_count": 25,
   "metadata": {},
   "outputs": [],
   "source": [
    "rxn = AllChem.ReactionFromSmarts('[C:1]=[O,N:2]>>*[C:1][*:2]')"
   ]
  },
  {
   "cell_type": "code",
   "execution_count": 26,
   "metadata": {},
   "outputs": [
    {
     "data": {
      "text/plain": [
       "['*C(C)O']"
      ]
     },
     "execution_count": 26,
     "metadata": {},
     "output_type": "execute_result"
    }
   ],
   "source": [
    "[Chem.MolToSmiles(x,1) for x in rxn.RunReactants((Chem.MolFromSmiles('CC=O'),))[0]]"
   ]
  },
  {
   "cell_type": "code",
   "execution_count": 27,
   "metadata": {},
   "outputs": [],
   "source": [
    "rxn = AllChem.ReactionFromSmarts('[C:1]~[O,N:2]>>*[C:1]~[*:2]')"
   ]
  },
  {
   "cell_type": "code",
   "execution_count": 28,
   "metadata": {},
   "outputs": [
    {
     "data": {
      "text/plain": [
       "['*C=O']"
      ]
     },
     "execution_count": 28,
     "metadata": {},
     "output_type": "execute_result"
    }
   ],
   "source": [
    "[Chem.MolToSmiles(x,1) for x in rxn.RunReactants((Chem.MolFromSmiles('C=O'),))[0]]"
   ]
  },
  {
   "cell_type": "code",
   "execution_count": 29,
   "metadata": {},
   "outputs": [
    {
     "data": {
      "text/plain": [
       "['*CO']"
      ]
     },
     "execution_count": 29,
     "metadata": {},
     "output_type": "execute_result"
    }
   ],
   "source": [
    "[Chem.MolToSmiles(x,1) for x in rxn.RunReactants((Chem.MolFromSmiles('CO'),))[0]]"
   ]
  },
  {
   "cell_type": "code",
   "execution_count": 30,
   "metadata": {},
   "outputs": [
    {
     "data": {
      "text/plain": [
       "['*C#N']"
      ]
     },
     "execution_count": 30,
     "metadata": {},
     "output_type": "execute_result"
    }
   ],
   "source": [
    "[Chem.MolToSmiles(x,1) for x in rxn.RunReactants((Chem.MolFromSmiles('C#N'),))[0]]"
   ]
  },
  {
   "cell_type": "code",
   "execution_count": null,
   "metadata": {},
   "outputs": [],
   "source": []
  }
 ],
 "metadata": {
  "kernelspec": {
   "display_name": "Python 3",
   "language": "python",
   "name": "python3"
  },
  "language_info": {
   "codemirror_mode": {
    "name": "ipython",
    "version": 3
   },
   "file_extension": ".py",
   "mimetype": "text/x-python",
   "name": "python",
   "nbconvert_exporter": "python",
   "pygments_lexer": "ipython3",
   "version": "3.7.3"
  }
 },
 "nbformat": 4,
 "nbformat_minor": 2
}

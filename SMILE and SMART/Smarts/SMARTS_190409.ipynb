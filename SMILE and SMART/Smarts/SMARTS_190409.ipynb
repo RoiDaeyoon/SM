{
 "cells": [
  {
   "cell_type": "markdown",
   "metadata": {},
   "source": [
    "# SMARTS (SMiles ARbitrary Target Specification)\n",
    "<br><br>\n",
    "\n",
    "> 참고\n",
    "* [SMARTS Theory in Daylight](http://www.daylight.com/dayhtml/doc/theory/theory.smarts.html)\n",
    "* [SMARTS Tutorial in Daylight](http://www.daylight.com/dayhtml_tutorials/languages/smarts)\n",
    "* [RDKit](https://www.rdkit.org/)"
   ]
  },
  {
   "cell_type": "markdown",
   "metadata": {},
   "source": [
    "SMARTS | SMILES\n",
    "---- | ----\n",
    "Molecular pattern | Molecular structure"
   ]
  },
  {
   "cell_type": "markdown",
   "metadata": {},
   "source": [
    "### Introduction\n",
    "\n",
    "* `SMiles ARbitrary Target Specification`\n",
    "* 분자의 패턴이나 성질을 표현하기 위한 언어이다.\n",
    "* 컴퓨터 프로그램에서 물질의 디지털 표현에 이용.\n",
    " > 특정 작용기를 강조하는 것 <br>\n",
    " `drug design`-*database*에 유사 구조, 특성을 가진 물질 찾기 <br>\n",
    " 분석화학-모르는 물질의 구조와 특성을 예측하기\n",
    "\n",
    "* SMARTS는 SMILES의 연장선이며, 확장된 규칙으로 구조를 구분지을 수 있게 해준다.\n",
    "> `SMILES`의 모든 기호(atoms & bonds)과 성질표현(원자의 표현, 전하, 이성질체의 명시)들은 `SMARTS`에서도 유효하다. <br>\n",
    " `SMARTS`는 확장된 논리적 연산자들과 부가적인 분자 표현법도 가지고있다. <br>\n",
    "  \n",
    "* `SMARTS`를 이용해 유연하고 효과적인 특정 구조 찾기가 가능하다.\n",
    "* 구조적 패턴을 일반성과 특수성의 여러 단계로 표현할 수 있다.<br>\n",
    " \n",
    "**SMILES** |-| **SMARTS** |-\n",
    "---- | ---- | ---- | ----\n",
    "[CH4] | methane | [CH4] | methane\n",
    "C | methane | C | `carbon atoms` with any number of hydrogens\n",
    "\n",
    "> SMILES에선 methane을 `C` or `[CH4]`로 표현할 수 있다<br>\n",
    "> SMARTS 에서 methane은 `[CH4]`이다. ( **High specificity SMARTS** ) <br>\n",
    " `[CH4]`는 **4개의 수소를 갖는 지방족 탄소 원자를 의미**하며, `ehtane`, `ethene`, `cyclopentane`의 탄소 원자들과 다르다.\n",
    "\n",
    "> 반대로 SMARTS에서 `C`는 수소의 갯수가 `0~4`인 지방족 탄소 원자이다. ( **Low specificity SMARTS** ) <br>\n",
    " `ehtane`, `ethene`, `cyclopentane`의 **탄소 원자들이 될 수도 있다.**\n",
    ">> 단독으로 쓰인 smarts code `C`는 `ehtane`, `ethene`, `cyclopentane`의 탄소 원자에 포함된다."
   ]
  },
  {
   "cell_type": "code",
   "execution_count": 1,
   "metadata": {},
   "outputs": [],
   "source": [
    "#RDkit 적용\n",
    "from __future__ import print_function #2.X대 python호환을 위해\n",
    "from rdkit import Chem\n",
    "from rdkit.Chem import AllChem"
   ]
  },
  {
   "cell_type": "code",
   "execution_count": 2,
   "metadata": {},
   "outputs": [],
   "source": [
    "from rdkit.Chem.Draw import IPythonConsole\n",
    "from rdkit.Chem import Draw"
   ]
  },
  {
   "cell_type": "markdown",
   "metadata": {},
   "source": [
    "**`기준`.HasSubstructMatch(`비교대상`)**<br>\n",
    "> 기준 물질에 비교대상의 물질이 포함되면 `True`, 아니라면 `False`를 출력한다<br>\n",
    "\n",
    "**`기준`.GetSubstructMatch(`비교대상`)**<br>\n",
    "> 포함이 된다면 포함되는 기준이 되는 대상에 `n`번째와 같은지 출력한다.<br>\n",
    " `>>> (n,)`<Br>\n",
    "    \n",
    "> 포함이 되지 않는다면 `()`을 출력한다.<br>\n",
    "> `>>> ()`\n",
    "\n",
    "* **GetSubstructMatch module은 둘 이상의 같은 배열을 가지더라도 첫 번째로 나온 비교대상의 순서를 출력한다.**\n",
    "> 중복되는 가지가 있더라도 가장 먼저 나온 것을 출력한다.\n",
    "\n",
    "**$\\therefore$`기준`.GetSubstructMatch(`비교대상`)은 포함 여부와 몇 번째에 붙어있는 지를 표기하기에 주로 사용하겠다.**"
   ]
  },
  {
   "cell_type": "code",
   "execution_count": 3,
   "metadata": {},
   "outputs": [
    {
     "data": {
      "text/plain": [
       "(0,)"
      ]
     },
     "execution_count": 3,
     "metadata": {},
     "output_type": "execute_result"
    }
   ],
   "source": [
    "AllChem.MolFromSmarts('[C]').GetSubstructMatch(AllChem.MolFromSmarts('C'))"
   ]
  },
  {
   "cell_type": "code",
   "execution_count": 4,
   "metadata": {},
   "outputs": [
    {
     "data": {
      "text/plain": [
       "(0,)"
      ]
     },
     "execution_count": 4,
     "metadata": {},
     "output_type": "execute_result"
    }
   ],
   "source": [
    "AllChem.MolFromSmiles('C').GetSubstructMatch(AllChem.MolFromSmarts('[CH4]'))"
   ]
  },
  {
   "cell_type": "code",
   "execution_count": 5,
   "metadata": {},
   "outputs": [
    {
     "data": {
      "text/plain": [
       "()"
      ]
     },
     "execution_count": 5,
     "metadata": {},
     "output_type": "execute_result"
    }
   ],
   "source": [
    "AllChem.MolFromSmarts('C').GetSubstructMatch(AllChem.MolFromSmiles('CBr'))"
   ]
  },
  {
   "cell_type": "code",
   "execution_count": 6,
   "metadata": {},
   "outputs": [
    {
     "ename": "RuntimeError",
     "evalue": "Pre-condition Violation\n\tgetNumImplicitHs() called without preceding call to calcImplicitValence()\n\tViolation occurred on line 153 in file Code\\GraphMol\\Atom.cpp\n\tFailed Expression: d_implicitValence > -1\n\tRDKIT: 2018.03.3\n\tBOOST: 1_66\n",
     "output_type": "error",
     "traceback": [
      "\u001b[1;31m---------------------------------------------------------------------------\u001b[0m",
      "\u001b[1;31mRuntimeError\u001b[0m                              Traceback (most recent call last)",
      "\u001b[1;32m<ipython-input-6-7274813e2f94>\u001b[0m in \u001b[0;36m<module>\u001b[1;34m()\u001b[0m\n\u001b[1;32m----> 1\u001b[1;33m \u001b[0mAllChem\u001b[0m\u001b[1;33m.\u001b[0m\u001b[0mMolFromSmarts\u001b[0m\u001b[1;33m(\u001b[0m\u001b[1;34m'C'\u001b[0m\u001b[1;33m)\u001b[0m\u001b[1;33m.\u001b[0m\u001b[0mGetSubstructMatch\u001b[0m\u001b[1;33m(\u001b[0m\u001b[0mAllChem\u001b[0m\u001b[1;33m.\u001b[0m\u001b[0mMolFromSmarts\u001b[0m\u001b[1;33m(\u001b[0m\u001b[1;34m'[CH4]'\u001b[0m\u001b[1;33m)\u001b[0m\u001b[1;33m)\u001b[0m\u001b[1;33m\u001b[0m\u001b[0m\n\u001b[0m",
      "\u001b[1;32mC:\\Anaconda3\\lib\\site-packages\\rdkit\\Chem\\Draw\\IPythonConsole.py\u001b[0m in \u001b[0;36m_GetSubstructMatch\u001b[1;34m(mol, query, **kwargs)\u001b[0m\n\u001b[0;32m    133\u001b[0m \u001b[1;33m\u001b[0m\u001b[0m\n\u001b[0;32m    134\u001b[0m \u001b[1;32mdef\u001b[0m \u001b[0m_GetSubstructMatch\u001b[0m\u001b[1;33m(\u001b[0m\u001b[0mmol\u001b[0m\u001b[1;33m,\u001b[0m \u001b[0mquery\u001b[0m\u001b[1;33m,\u001b[0m \u001b[1;33m**\u001b[0m\u001b[0mkwargs\u001b[0m\u001b[1;33m)\u001b[0m\u001b[1;33m:\u001b[0m\u001b[1;33m\u001b[0m\u001b[0m\n\u001b[1;32m--> 135\u001b[1;33m   \u001b[0mres\u001b[0m \u001b[1;33m=\u001b[0m \u001b[0mmol\u001b[0m\u001b[1;33m.\u001b[0m\u001b[0m__GetSubstructMatch\u001b[0m\u001b[1;33m(\u001b[0m\u001b[0mquery\u001b[0m\u001b[1;33m,\u001b[0m \u001b[1;33m**\u001b[0m\u001b[0mkwargs\u001b[0m\u001b[1;33m)\u001b[0m\u001b[1;33m\u001b[0m\u001b[0m\n\u001b[0m\u001b[0;32m    136\u001b[0m   \u001b[1;32mif\u001b[0m \u001b[0mhighlightSubstructs\u001b[0m\u001b[1;33m:\u001b[0m\u001b[1;33m\u001b[0m\u001b[0m\n\u001b[0;32m    137\u001b[0m     \u001b[0mmol\u001b[0m\u001b[1;33m.\u001b[0m\u001b[0m__sssAtoms\u001b[0m \u001b[1;33m=\u001b[0m \u001b[0mlist\u001b[0m\u001b[1;33m(\u001b[0m\u001b[0mres\u001b[0m\u001b[1;33m)\u001b[0m\u001b[1;33m\u001b[0m\u001b[0m\n",
      "\u001b[1;31mRuntimeError\u001b[0m: Pre-condition Violation\n\tgetNumImplicitHs() called without preceding call to calcImplicitValence()\n\tViolation occurred on line 153 in file Code\\GraphMol\\Atom.cpp\n\tFailed Expression: d_implicitValence > -1\n\tRDKIT: 2018.03.3\n\tBOOST: 1_66\n"
     ]
    }
   ],
   "source": [
    "AllChem.MolFromSmarts('C').GetSubstructMatch(AllChem.MolFromSmarts('[CH4]'))"
   ]
  },
  {
   "cell_type": "code",
   "execution_count": 7,
   "metadata": {},
   "outputs": [
    {
     "data": {
      "text/plain": [
       "(0,)"
      ]
     },
     "execution_count": 7,
     "metadata": {},
     "output_type": "execute_result"
    }
   ],
   "source": [
    "AllChem.MolFromSmarts('[CH4]').GetSubstructMatch(AllChem.MolFromSmarts('C'))"
   ]
  },
  {
   "cell_type": "code",
   "execution_count": 8,
   "metadata": {},
   "outputs": [
    {
     "data": {
      "text/plain": [
       "()"
      ]
     },
     "execution_count": 8,
     "metadata": {},
     "output_type": "execute_result"
    }
   ],
   "source": [
    "AllChem.MolFromSmiles('CC').GetSubstructMatch(AllChem.MolFromSmarts('[CH4]'))"
   ]
  },
  {
   "cell_type": "code",
   "execution_count": 9,
   "metadata": {},
   "outputs": [
    {
     "data": {
      "text/plain": [
       "(0,)"
      ]
     },
     "execution_count": 9,
     "metadata": {},
     "output_type": "execute_result"
    }
   ],
   "source": [
    "AllChem.MolFromSmiles('CC').GetSubstructMatch(AllChem.MolFromSmarts('C'))"
   ]
  },
  {
   "cell_type": "code",
   "execution_count": 10,
   "metadata": {},
   "outputs": [
    {
     "data": {
      "text/plain": [
       "(0, 1)"
      ]
     },
     "execution_count": 10,
     "metadata": {},
     "output_type": "execute_result"
    }
   ],
   "source": [
    "AllChem.MolFromSmiles('CC').GetSubstructMatch(AllChem.MolFromSmarts('CC'))"
   ]
  },
  {
   "cell_type": "code",
   "execution_count": 11,
   "metadata": {},
   "outputs": [
    {
     "data": {
      "text/plain": [
       "(0,)"
      ]
     },
     "execution_count": 11,
     "metadata": {},
     "output_type": "execute_result"
    }
   ],
   "source": [
    "AllChem.MolFromSmarts('CC').GetSubstructMatch(AllChem.MolFromSmarts('C'))"
   ]
  },
  {
   "cell_type": "code",
   "execution_count": 12,
   "metadata": {},
   "outputs": [
    {
     "data": {
      "text/plain": [
       "(0,)"
      ]
     },
     "execution_count": 12,
     "metadata": {},
     "output_type": "execute_result"
    }
   ],
   "source": [
    "AllChem.MolFromSmarts('CC').GetSubstructMatch(AllChem.MolFromSmiles('C'))"
   ]
  },
  {
   "cell_type": "code",
   "execution_count": 13,
   "metadata": {},
   "outputs": [
    {
     "data": {
      "text/plain": [
       "(0, 1)"
      ]
     },
     "execution_count": 13,
     "metadata": {},
     "output_type": "execute_result"
    }
   ],
   "source": [
    "AllChem.MolFromSmarts('CC').GetSubstructMatch(AllChem.MolFromSmiles('CC'))"
   ]
  },
  {
   "cell_type": "code",
   "execution_count": 14,
   "metadata": {},
   "outputs": [
    {
     "data": {
      "text/plain": [
       "()"
      ]
     },
     "execution_count": 14,
     "metadata": {},
     "output_type": "execute_result"
    }
   ],
   "source": [
    "AllChem.MolFromSmarts('CC').GetSubstructMatch(AllChem.MolFromSmarts('CBr'))"
   ]
  },
  {
   "cell_type": "code",
   "execution_count": 15,
   "metadata": {},
   "outputs": [
    {
     "data": {
      "text/plain": [
       "(1, 2, 3)"
      ]
     },
     "execution_count": 15,
     "metadata": {},
     "output_type": "execute_result"
    }
   ],
   "source": [
    "AllChem.MolFromSmarts('CCCBrCCBr').GetSubstructMatch(AllChem.MolFromSmarts('CCBr'))"
   ]
  },
  {
   "cell_type": "code",
   "execution_count": 16,
   "metadata": {},
   "outputs": [
    {
     "data": {
      "text/plain": [
       "(0, 1, 2)"
      ]
     },
     "execution_count": 16,
     "metadata": {},
     "output_type": "execute_result"
    }
   ],
   "source": [
    "AllChem.MolFromSmarts('CCBrCCCBr').GetSubstructMatch(AllChem.MolFromSmarts('CCBr'))"
   ]
  },
  {
   "cell_type": "code",
   "execution_count": 17,
   "metadata": {},
   "outputs": [
    {
     "data": {
      "text/plain": [
       "()"
      ]
     },
     "execution_count": 17,
     "metadata": {},
     "output_type": "execute_result"
    }
   ],
   "source": [
    "AllChem.MolFromSmarts('C=C').GetSubstructMatch(AllChem.MolFromSmarts('CC'))"
   ]
  },
  {
   "cell_type": "code",
   "execution_count": 18,
   "metadata": {},
   "outputs": [
    {
     "data": {
      "text/plain": [
       "()"
      ]
     },
     "execution_count": 18,
     "metadata": {},
     "output_type": "execute_result"
    }
   ],
   "source": [
    "AllChem.MolFromSmarts('C=C').GetSubstructMatch(AllChem.MolFromSmarts('C*'))"
   ]
  },
  {
   "cell_type": "code",
   "execution_count": 19,
   "metadata": {},
   "outputs": [
    {
     "data": {
      "text/plain": [
       "(0, 1)"
      ]
     },
     "execution_count": 19,
     "metadata": {},
     "output_type": "execute_result"
    }
   ],
   "source": [
    "AllChem.MolFromSmarts('C=C').GetSubstructMatch(AllChem.MolFromSmiles('C=C'))"
   ]
  },
  {
   "cell_type": "code",
   "execution_count": 20,
   "metadata": {},
   "outputs": [
    {
     "data": {
      "text/plain": [
       "(0, 1)"
      ]
     },
     "execution_count": 20,
     "metadata": {},
     "output_type": "execute_result"
    }
   ],
   "source": [
    "AllChem.MolFromSmarts('C=C').GetSubstructMatch(AllChem.MolFromSmarts('C=*'))"
   ]
  },
  {
   "cell_type": "code",
   "execution_count": 21,
   "metadata": {},
   "outputs": [
    {
     "data": {
      "text/plain": [
       "(0, 1)"
      ]
     },
     "execution_count": 21,
     "metadata": {},
     "output_type": "execute_result"
    }
   ],
   "source": [
    "AllChem.MolFromSmarts('CCC').GetSubstructMatch(AllChem.MolFromSmarts('CC'))"
   ]
  },
  {
   "cell_type": "code",
   "execution_count": 22,
   "metadata": {},
   "outputs": [
    {
     "data": {
      "text/plain": [
       "(0, 1, 2)"
      ]
     },
     "execution_count": 22,
     "metadata": {},
     "output_type": "execute_result"
    }
   ],
   "source": [
    "AllChem.MolFromSmarts('CCC').GetSubstructMatch(AllChem.MolFromSmarts('CC*'))"
   ]
  },
  {
   "cell_type": "code",
   "execution_count": 23,
   "metadata": {},
   "outputs": [
    {
     "data": {
      "text/plain": [
       "(0,)"
      ]
     },
     "execution_count": 23,
     "metadata": {},
     "output_type": "execute_result"
    }
   ],
   "source": [
    "AllChem.MolFromSmarts('[C]').GetSubstructMatch(AllChem.MolFromSmarts('C'))"
   ]
  },
  {
   "cell_type": "markdown",
   "metadata": {},
   "source": [
    "$\\therefore$ `[CH4]`는 `C`를 포함하고, `C`는 `[CH4]`를 포함하지 않는다.<br>\n",
    "* **smarts code `C`뒤의 생략된 표현은 수소이지 다른 원자를 생략한 표현은 아니다.**<Br>\n",
    "* **smarts code `[CH4]`는 완벽히 수소의 갯수를 명시해준 것임으로 `C`에 포함될 수 없다.**\n",
    "* **smarts code 中 wild card(*)가 탄소를 포함한 임의의 원자를 생략한 표현이다.**<br>\n",
    "    \n",
    "**`기준`.GetSubstructMatch(`비교대상`)**<br>\n",
    "* **GetSubstructMatch module은 둘 이상의 같은 배열을 가지더라도 첫 번째로 나온 비교대상의 순서를 출력한다.**"
   ]
  },
  {
   "cell_type": "markdown",
   "metadata": {},
   "source": [
    "### 1.Atomic Primitives\n",
    "* SMARTS는 SMILES에서 사용되는 원자의 특징(원자 기호, 전하, 이성질체의 명시)보다 더 큰 범주의 많은 원자의 표현을 제공한다.\n",
    "* <**n**> : 숫자 , <**c**> : chiral class"
   ]
  },
  {
   "cell_type": "markdown",
   "metadata": {},
   "source": [
    "Symbol | Symbol name | Atomic property requirements | Default\n",
    "---- | ---- | ----| ----\n",
    "* | wildcard | any atom | (no default)\n",
    "a | aromatic | aromatic | (no default)\n",
    "A | aliphatic | aliphatic | (no default)\n",
    "D<$n$> | degree | <$n$> explicit connections | exactly one\n",
    "H<$n$> | total-H-count | <$n$> attached hydrogens | exactly one\n",
    "h<$n$> | implicit-H-count | <$n$> implicit hydrogens | at least one\n",
    "R<$n$> | ring membership | in <$n$> SSSR rings | any ring atom\n",
    "r<$n$> | ring size | in smallest SSSR ring of size <$n$> | any ring atom\n",
    "v<$n$> | valence | total bond order <$n$> | exactly one\n",
    "X<$n$> | connectivity | <$n$> total connections | exactly one\n",
    "x<$n$> | ring connectivity | <$n$> total ring connections | at least one\n",
    "- <$n$> | negative charge | -<$n$> charge | -1 charge (-- is -2, etc)\n",
    "+<$n$> | positive charge | +<$n$> formal charge | +1 charge (++ is +2, etc)\n",
    "#n | atomic number | atomic number <$n$> | (no default)\n",
    "@ | chirality | anticlockwise | anticlockwise, default class\n",
    "@@ | chirality | clockwise | clockwise, default class\n",
    "@<$c$><$n$> | chirality | chiral class <$c$> chirality <$n$> | (nodefault)\n",
    "@<$c$><$n$>? | chiral or unspec | chirality <$c$><$n$> or unspecified | (no default)\n",
    "<$n$> | atomic mass | explicit atomic mass | unspecified mass\n"
   ]
  },
  {
   "cell_type": "markdown",
   "metadata": {},
   "source": [
    "> **Examples** <br>\n",
    "\n",
    "Symbol | Atomic property requirements\n",
    "---- | ----\n",
    "[C] | aliphatic carbon atom\n",
    "[c] | aromatic carbon atom\n",
    "[a] | aromatic atom\n",
    "[#6] | carbon atom\n",
    "[Ca] | calcium atom\n",
    "[++] | atom with a +2 charge | \n",
    "[R] | atom in any ring\n",
    "[D3] | atom with 3 explicit bonds (implicit H's don't count)\n",
    "[X3] | atom with 3 total bonds (includes implicit H's)\n",
    "[v3] | atom with bond orders totaling 3 (includes implicit H's)\n",
    "C[C@H](F)O | match chirality (H-F-O anticlockwise viewed from C)\n",
    "C[C@?H](F)O | matches if chirality is as specified or is not specified"
   ]
  },
  {
   "cell_type": "code",
   "execution_count": 24,
   "metadata": {},
   "outputs": [
    {
     "data": {
      "image/png": "[encoded data removed]",
      "text/plain": [
       "<rdkit.Chem.rdchem.Mol at 0x275beeff080>"
      ]
     },
     "execution_count": 24,
     "metadata": {},
     "output_type": "execute_result"
    }
   ],
   "source": [
    "ex1 = AllChem.MolFromSmarts('[#6]')\n",
    "ex1"
   ]
  },
  {
   "cell_type": "code",
   "execution_count": 25,
   "metadata": {},
   "outputs": [
    {
     "data": {
      "image/png": "[encoded data removed]",
      "text/plain": [
       "<rdkit.Chem.rdchem.Mol at 0x275beeffad0>"
      ]
     },
     "execution_count": 25,
     "metadata": {},
     "output_type": "execute_result"
    }
   ],
   "source": [
    "ex2 = AllChem.MolFromSmarts('[c]')\n",
    "ex2"
   ]
  },
  {
   "cell_type": "code",
   "execution_count": 26,
   "metadata": {},
   "outputs": [
    {
     "data": {
      "text/plain": [
       "False"
      ]
     },
     "execution_count": 26,
     "metadata": {},
     "output_type": "execute_result"
    }
   ],
   "source": [
    "ex1.HasSubstructMatch(ex2)"
   ]
  },
  {
   "cell_type": "code",
   "execution_count": 27,
   "metadata": {},
   "outputs": [
    {
     "data": {
      "image/png": "[encoded data removed]",
      "text/plain": [
       "<rdkit.Chem.rdchem.Mol at 0x275beef4300>"
      ]
     },
     "execution_count": 27,
     "metadata": {},
     "output_type": "execute_result"
    }
   ],
   "source": [
    "ex1 = AllChem.MolFromSmarts('C[C@H](F)O')\n",
    "ex1"
   ]
  },
  {
   "attachments": {
    "C%5BC@H%5D%28F%29O.PNG": {
     "image/png": "[encoded data removed]"
    }
   },
   "cell_type": "markdown",
   "metadata": {},
   "source": [
    "![C%5BC@H%5D%28F%29O.PNG](attachment:C%5BC@H%5D%28F%29O.PNG)"
   ]
  },
  {
   "cell_type": "code",
   "execution_count": 28,
   "metadata": {},
   "outputs": [
    {
     "data": {
      "image/png": "[encoded data removed]",
      "text/plain": [
       "<rdkit.Chem.rdchem.Mol at 0x275beef4440>"
      ]
     },
     "execution_count": 28,
     "metadata": {},
     "output_type": "execute_result"
    }
   ],
   "source": [
    "ex2 = Chem.MolFromSmarts('C[C@@H](F)O')\n",
    "ex2"
   ]
  },
  {
   "cell_type": "code",
   "execution_count": 29,
   "metadata": {},
   "outputs": [
    {
     "data": {
      "text/plain": [
       "False"
      ]
     },
     "execution_count": 29,
     "metadata": {},
     "output_type": "execute_result"
    }
   ],
   "source": [
    "ex1.HasSubstructMatch(ex2, useChirality=True)"
   ]
  },
  {
   "cell_type": "code",
   "execution_count": 30,
   "metadata": {},
   "outputs": [
    {
     "name": "stdout",
     "output_type": "stream",
     "text": [
      "2018.03.3\n",
      "Sun Apr  7 23:03:57 2019\n"
     ]
    }
   ],
   "source": [
    "IPythonConsole.molSize = (250,200)\n",
    "from rdkit.Chem import AllChem\n",
    "import math\n",
    "import rdkit\n",
    "import time\n",
    "print(rdkit.__version__)\n",
    "print(time.asctime())"
   ]
  },
  {
   "cell_type": "code",
   "execution_count": 31,
   "metadata": {},
   "outputs": [
    {
     "data": {
      "image/png": "[encoded data removed]",
      "text/plain": [
       "<rdkit.Chem.rdchem.Mol at 0x275beef45d0>"
      ]
     },
     "execution_count": 31,
     "metadata": {},
     "output_type": "execute_result"
    }
   ],
   "source": [
    "m = Chem.MolFromSmiles('C/C=C/CC(C)C(O)C1C(=O)NC(CC)C(=O)N(C)CC(=O)N(C)C(CC(C)C)C(=O)NC(C(C)C)C(=O)N(C)C(CC(C)C)C(=O)NC(C)C(=O)NC(C)C(=O)N(C)C(CC(C)C)C(=O)N(C)C(CC(C)C)C(=O)N(C)C(C(C)C)C(=O)N1C')\n",
    "\n",
    "core = Chem.MolFromSmiles('C1C(=O)NCC(=O)NCC(=O)NCC(=O)NCC(=O)NCC(=O)NCC(=O)NCC(=O)NCC(=O)NCC(=O)NCC(=O)N1')\n",
    "m.GetSubstructMatch(core)\n",
    "m"
   ]
  },
  {
   "cell_type": "code",
   "execution_count": 32,
   "metadata": {},
   "outputs": [],
   "source": [
    "naphthalene = Chem.MolFromSmiles('c12ccccc1cccc2')\n",
    "benzoxazole = Chem.MolFromSmiles('n1c2ccccc2oc1')\n",
    "indane = Chem.MolFromSmiles('c1ccc2c(c1)CCC2')\n",
    "skatole = Chem.MolFromSmiles('CC1=CNC2=CC=CC=C12')\n",
    "benzene = Chem.MolFromSmiles('c1ccccc1')\n",
    "quinoline = Chem.MolFromSmiles('n1cccc2ccccc12')\n",
    "\n",
    "my_molecules = [naphthalene, \n",
    "                benzoxazole,\n",
    "                indane,\n",
    "                skatole,\n",
    "                benzene,\n",
    "                quinoline,\n",
    "               ]"
   ]
  },
  {
   "cell_type": "code",
   "execution_count": 33,
   "metadata": {},
   "outputs": [
    {
     "data": {
      "image/png": "[encoded data removed]",
      "text/plain": [
       "<PIL.PngImagePlugin.PngImageFile image mode=RGB size=600x400 at 0x275BEF06E80>"
      ]
     },
     "execution_count": 33,
     "metadata": {},
     "output_type": "execute_result"
    }
   ],
   "source": [
    "Draw.MolsToGridImage(my_molecules, useSVG=False)"
   ]
  },
  {
   "cell_type": "code",
   "execution_count": 34,
   "metadata": {},
   "outputs": [
    {
     "data": {
      "text/plain": [
       "[True, True, True, True, False, True]"
      ]
     },
     "execution_count": 34,
     "metadata": {},
     "output_type": "execute_result"
    }
   ],
   "source": [
    "is_in_two_rings = Chem.MolFromSmarts('[R2]')\n",
    "[mol.HasSubstructMatch(is_in_two_rings) for mol in my_molecules]"
   ]
  },
  {
   "cell_type": "code",
   "execution_count": 35,
   "metadata": {},
   "outputs": [],
   "source": [
    "mol1 = Chem.MolFromSmiles('c1ccccc1')\n",
    "mol2 = Chem.MolFromSmiles('o1cccc1')\n",
    "mol3 = Chem.MolFromSmiles('C1CCCCC1')\n",
    "\n",
    "my_mol = [mol1,\n",
    "          mol2,\n",
    "          mol3\n",
    "         ]"
   ]
  },
  {
   "cell_type": "code",
   "execution_count": 36,
   "metadata": {},
   "outputs": [
    {
     "data": {
      "image/png": "[encoded data removed]",
      "text/plain": [
       "<PIL.PngImagePlugin.PngImageFile image mode=RGB size=600x200 at 0x275BEFA8C50>"
      ]
     },
     "execution_count": 36,
     "metadata": {},
     "output_type": "execute_result"
    }
   ],
   "source": [
    "Draw.MolsToGridImage(my_mol, useSVG=False)"
   ]
  },
  {
   "cell_type": "code",
   "execution_count": 37,
   "metadata": {},
   "outputs": [
    {
     "data": {
      "text/plain": [
       "[True, True, False]"
      ]
     },
     "execution_count": 37,
     "metadata": {},
     "output_type": "execute_result"
    }
   ],
   "source": [
    "aromatic = Chem.MolFromSmarts('c')\n",
    "[mol.HasSubstructMatch(aromatic) for mol in my_mol]"
   ]
  },
  {
   "cell_type": "code",
   "execution_count": 38,
   "metadata": {},
   "outputs": [],
   "source": [
    "mol1 = Chem.MolFromSmiles('[Fe++]')\n",
    "mol2 = Chem.MolFromSmiles('[Na+]')\n",
    "mol3 = Chem.MolFromSmiles('[Mg++]')\n",
    "\n",
    "my_mol = [mol1,\n",
    "          mol2,\n",
    "          mol3\n",
    "         ]"
   ]
  },
  {
   "cell_type": "code",
   "execution_count": 39,
   "metadata": {},
   "outputs": [
    {
     "data": {
      "image/png": "[encoded data removed]",
      "text/plain": [
       "<PIL.PngImagePlugin.PngImageFile image mode=RGB size=600x200 at 0x275BEF06A20>"
      ]
     },
     "execution_count": 39,
     "metadata": {},
     "output_type": "execute_result"
    }
   ],
   "source": [
    "Draw.MolsToGridImage(my_mol, useSVG=False)"
   ]
  },
  {
   "cell_type": "code",
   "execution_count": 40,
   "metadata": {},
   "outputs": [
    {
     "data": {
      "text/plain": [
       "[False, True, False]"
      ]
     },
     "execution_count": 40,
     "metadata": {},
     "output_type": "execute_result"
    }
   ],
   "source": [
    "charged = Chem.MolFromSmarts('[+]')\n",
    "[mol.HasSubstructMatch(charged) for mol in my_mol]"
   ]
  },
  {
   "cell_type": "code",
   "execution_count": 41,
   "metadata": {},
   "outputs": [
    {
     "data": {
      "text/plain": [
       "[True, False, True]"
      ]
     },
     "execution_count": 41,
     "metadata": {},
     "output_type": "execute_result"
    }
   ],
   "source": [
    "charged = Chem.MolFromSmarts('[++]')\n",
    "[mol.HasSubstructMatch(charged) for mol in my_mol]"
   ]
  },
  {
   "cell_type": "markdown",
   "metadata": {},
   "source": [
    "### 2. Bond Primitives(결합의 기본,원시)\n",
    "* 다양한 결합의 표시가 원자들 간에 가능하다.\n",
    "* 생략된 결합은 '단일 혹은 방향족 결합' 으로 해석될 수 있다."
   ]
  },
  {
   "cell_type": "markdown",
   "metadata": {},
   "source": [
    "Symbol | Atomic property requirements\n",
    "---- | ----\n",
    "- | single bond (aliphatic)\n",
    "/ | directional bond \"up\"1\n",
    "\\ | directional bond \"down\"1\n",
    "**/?** | directional bond \"up or **unspecified**\"\n",
    "**\\?** | directional bond \"down or **unspecified**\"\n",
    "= | double bond\n",
    "# | triple bond\n",
    ": | aromatic bond\n",
    "~ | any bond (wildcard)\n",
    "@ | any ring bond1"
   ]
  },
  {
   "cell_type": "code",
   "execution_count": 42,
   "metadata": {},
   "outputs": [
    {
     "data": {
      "text/plain": [
       "(0, 1)"
      ]
     },
     "execution_count": 42,
     "metadata": {},
     "output_type": "execute_result"
    }
   ],
   "source": [
    "AllChem.MolFromSmarts('C\\C=C/C').GetSubstructMatch(AllChem.MolFromSmarts('C\\C'))"
   ]
  },
  {
   "cell_type": "code",
   "execution_count": 43,
   "metadata": {},
   "outputs": [
    {
     "ename": "AttributeError",
     "evalue": "'NoneType' object has no attribute 'GetSubstructMatch'",
     "output_type": "error",
     "traceback": [
      "\u001b[1;31m---------------------------------------------------------------------------\u001b[0m",
      "\u001b[1;31mAttributeError\u001b[0m                            Traceback (most recent call last)",
      "\u001b[1;32m<ipython-input-43-f92a27e89d4d>\u001b[0m in \u001b[0;36m<module>\u001b[1;34m()\u001b[0m\n\u001b[1;32m----> 1\u001b[1;33m \u001b[0mAllChem\u001b[0m\u001b[1;33m.\u001b[0m\u001b[0mMolFromSmarts\u001b[0m\u001b[1;33m(\u001b[0m\u001b[1;34m'F/?[#6]=C/Cl'\u001b[0m\u001b[1;33m)\u001b[0m\u001b[1;33m.\u001b[0m\u001b[0mGetSubstructMatch\u001b[0m\u001b[1;33m(\u001b[0m\u001b[0mAllChem\u001b[0m\u001b[1;33m.\u001b[0m\u001b[0mMolFromSmarts\u001b[0m\u001b[1;33m(\u001b[0m\u001b[1;34m'FC'\u001b[0m\u001b[1;33m)\u001b[0m\u001b[1;33m)\u001b[0m\u001b[1;33m\u001b[0m\u001b[0m\n\u001b[0m",
      "\u001b[1;31mAttributeError\u001b[0m: 'NoneType' object has no attribute 'GetSubstructMatch'"
     ]
    }
   ],
   "source": [
    "AllChem.MolFromSmarts('F/?[#6]=C/Cl').GetSubstructMatch(AllChem.MolFromSmarts('FC'))"
   ]
  },
  {
   "cell_type": "code",
   "execution_count": 44,
   "metadata": {},
   "outputs": [
    {
     "data": {
      "image/png": "[encoded data removed]",
      "text/plain": [
       "<rdkit.Chem.rdchem.Mol at 0x275befb7170>"
      ]
     },
     "execution_count": 44,
     "metadata": {},
     "output_type": "execute_result"
    }
   ],
   "source": [
    "m1 = AllChem.MolFromSmarts('CC')\n",
    "m1"
   ]
  },
  {
   "cell_type": "code",
   "execution_count": 45,
   "metadata": {},
   "outputs": [
    {
     "data": {
      "image/png": "[encoded data removed]",
      "text/plain": [
       "<rdkit.Chem.rdchem.Mol at 0x275befb7260>"
      ]
     },
     "execution_count": 45,
     "metadata": {},
     "output_type": "execute_result"
    }
   ],
   "source": [
    "mol = AllChem.MolFromSmarts('C-C')\n",
    "mol"
   ]
  },
  {
   "cell_type": "code",
   "execution_count": 46,
   "metadata": {},
   "outputs": [
    {
     "data": {
      "image/png": "[encoded data removed]",
      "text/plain": [
       "<rdkit.Chem.rdchem.Mol at 0x275befb73f0>"
      ]
     },
     "execution_count": 46,
     "metadata": {},
     "output_type": "execute_result"
    }
   ],
   "source": [
    "mol = AllChem.MolFromSmarts('c:c')\n",
    "mol"
   ]
  },
  {
   "cell_type": "code",
   "execution_count": 47,
   "metadata": {},
   "outputs": [
    {
     "data": {
      "image/png": "[encoded data removed]",
      "text/plain": [
       "<rdkit.Chem.rdchem.Mol at 0x275befb7580>"
      ]
     },
     "execution_count": 47,
     "metadata": {},
     "output_type": "execute_result"
    }
   ],
   "source": [
    "mol = AllChem.MolFromSmarts('c-c')\n",
    "mol"
   ]
  }
 ],
 "metadata": {
  "kernelspec": {
   "display_name": "Python 3",
   "language": "python",
   "name": "python3"
  },
  "language_info": {
   "codemirror_mode": {
    "name": "ipython",
    "version": 3
   },
   "file_extension": ".py",
   "mimetype": "text/x-python",
   "name": "python",
   "nbconvert_exporter": "python",
   "pygments_lexer": "ipython3",
   "version": "3.6.5"
  }
 },
 "nbformat": 4,
 "nbformat_minor": 2
}
